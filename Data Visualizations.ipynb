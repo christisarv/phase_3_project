{
 "cells": [
  {
   "cell_type": "markdown",
   "metadata": {},
   "source": [
    "## Data Visualization Notebook\n",
    "\n",
    "To minimize notebook runtimes, vizualizations from the Tropical Storm Classification Project are being run separately here. "
   ]
  },
  {
   "cell_type": "markdown",
   "metadata": {},
   "source": [
    "### Recreating Dataframes"
   ]
  },
  {
   "cell_type": "code",
   "execution_count": 3,
   "metadata": {},
   "outputs": [],
   "source": [
    "import pandas as pd\n",
    "import numpy as np\n",
    "import matplotlib.pyplot as plt\n",
    "import plotly.express as px\n",
    "import seaborn as sns\n",
    "sns.set_style('darkgrid')\n",
    "import warnings\n",
    "warnings.filterwarnings('ignore')"
   ]
  },
  {
   "cell_type": "code",
   "execution_count": 4,
   "metadata": {},
   "outputs": [],
   "source": [
    "# from sklearn.impute import SimpleImputer\n",
    "# from sklearn.model_selection import train_test_split, GridSearchCV\n",
    "# from sklearn.linear_model import LogisticRegression\n",
    "# from sklearn.metrics import roc_curve, auc, accuracy_score, confusion_matrix, plot_confusion_matrix, classification_report\n",
    "# from sklearn.pipeline import Pipeline\n",
    "# from sklearn.preprocessing import StandardScaler, OneHotEncoder\n",
    "# from sklearn.compose import ColumnTransformer\n",
    "# from sklearn.tree import DecisionTreeClassifier "
   ]
  },
  {
   "cell_type": "code",
   "execution_count": 5,
   "metadata": {},
   "outputs": [
    {
     "data": {
      "text/html": [
       "<div>\n",
       "<style scoped>\n",
       "    .dataframe tbody tr th:only-of-type {\n",
       "        vertical-align: middle;\n",
       "    }\n",
       "\n",
       "    .dataframe tbody tr th {\n",
       "        vertical-align: top;\n",
       "    }\n",
       "\n",
       "    .dataframe thead th {\n",
       "        text-align: right;\n",
       "    }\n",
       "</style>\n",
       "<table border=\"1\" class=\"dataframe\">\n",
       "  <thead>\n",
       "    <tr style=\"text-align: right;\">\n",
       "      <th></th>\n",
       "      <th>SID</th>\n",
       "      <th>SEASON</th>\n",
       "      <th>NUMBER</th>\n",
       "      <th>BASIN</th>\n",
       "      <th>SUBBASIN</th>\n",
       "      <th>NAME</th>\n",
       "      <th>ISO_TIME</th>\n",
       "      <th>NATURE</th>\n",
       "      <th>LAT</th>\n",
       "      <th>LON</th>\n",
       "      <th>WMO_WIND</th>\n",
       "      <th>WMO_PRES</th>\n",
       "      <th>WMO_AGENCY</th>\n",
       "      <th>TRACK_TYPE</th>\n",
       "      <th>DIST2LAND</th>\n",
       "      <th>LANDFALL</th>\n",
       "      <th>IFLAG</th>\n",
       "      <th>USA_AGENCY</th>\n",
       "      <th>USA_ATCF_ID</th>\n",
       "      <th>USA_LAT</th>\n",
       "      <th>USA_LON</th>\n",
       "      <th>USA_RECORD</th>\n",
       "      <th>USA_STATUS</th>\n",
       "      <th>USA_WIND</th>\n",
       "      <th>USA_PRES</th>\n",
       "      <th>USA_SSHS</th>\n",
       "      <th>USA_R34_NE</th>\n",
       "      <th>USA_R34_SE</th>\n",
       "      <th>USA_R34_SW</th>\n",
       "      <th>USA_R34_NW</th>\n",
       "      <th>USA_R50_NE</th>\n",
       "      <th>USA_R50_SE</th>\n",
       "      <th>USA_R50_SW</th>\n",
       "      <th>USA_R50_NW</th>\n",
       "      <th>USA_R64_NE</th>\n",
       "      <th>USA_R64_SE</th>\n",
       "      <th>USA_R64_SW</th>\n",
       "      <th>USA_R64_NW</th>\n",
       "      <th>USA_POCI</th>\n",
       "      <th>USA_ROCI</th>\n",
       "      <th>USA_RMW</th>\n",
       "      <th>USA_EYE</th>\n",
       "      <th>TOKYO_LAT</th>\n",
       "      <th>TOKYO_LON</th>\n",
       "      <th>TOKYO_GRADE</th>\n",
       "      <th>TOKYO_WIND</th>\n",
       "      <th>TOKYO_PRES</th>\n",
       "      <th>TOKYO_R50_DIR</th>\n",
       "      <th>TOKYO_R50_LONG</th>\n",
       "      <th>TOKYO_R50_SHORT</th>\n",
       "      <th>TOKYO_R30_DIR</th>\n",
       "      <th>TOKYO_R30_LONG</th>\n",
       "      <th>TOKYO_R30_SHORT</th>\n",
       "      <th>TOKYO_LAND</th>\n",
       "      <th>CMA_LAT</th>\n",
       "      <th>CMA_LON</th>\n",
       "      <th>CMA_CAT</th>\n",
       "      <th>CMA_WIND</th>\n",
       "      <th>CMA_PRES</th>\n",
       "      <th>HKO_LAT</th>\n",
       "      <th>HKO_LON</th>\n",
       "      <th>HKO_CAT</th>\n",
       "      <th>HKO_WIND</th>\n",
       "      <th>HKO_PRES</th>\n",
       "      <th>NEWDELHI_LAT</th>\n",
       "      <th>NEWDELHI_LON</th>\n",
       "      <th>NEWDELHI_GRADE</th>\n",
       "      <th>NEWDELHI_WIND</th>\n",
       "      <th>NEWDELHI_PRES</th>\n",
       "      <th>NEWDELHI_CI</th>\n",
       "      <th>NEWDELHI_DP</th>\n",
       "      <th>NEWDELHI_POCI</th>\n",
       "      <th>REUNION_LAT</th>\n",
       "      <th>REUNION_LON</th>\n",
       "      <th>REUNION_TYPE</th>\n",
       "      <th>REUNION_WIND</th>\n",
       "      <th>REUNION_PRES</th>\n",
       "      <th>REUNION_TNUM</th>\n",
       "      <th>REUNION_CI</th>\n",
       "      <th>REUNION_RMW</th>\n",
       "      <th>REUNION_R34_NE</th>\n",
       "      <th>REUNION_R34_SE</th>\n",
       "      <th>REUNION_R34_SW</th>\n",
       "      <th>REUNION_R34_NW</th>\n",
       "      <th>REUNION_R50_NE</th>\n",
       "      <th>REUNION_R50_SE</th>\n",
       "      <th>REUNION_R50_SW</th>\n",
       "      <th>REUNION_R50_NW</th>\n",
       "      <th>REUNION_R64_NE</th>\n",
       "      <th>REUNION_R64_SE</th>\n",
       "      <th>REUNION_R64_SW</th>\n",
       "      <th>REUNION_R64_NW</th>\n",
       "      <th>BOM_LAT</th>\n",
       "      <th>BOM_LON</th>\n",
       "      <th>BOM_TYPE</th>\n",
       "      <th>BOM_WIND</th>\n",
       "      <th>BOM_PRES</th>\n",
       "      <th>BOM_TNUM</th>\n",
       "      <th>BOM_CI</th>\n",
       "      <th>BOM_RMW</th>\n",
       "      <th>BOM_R34_NE</th>\n",
       "      <th>BOM_R34_SE</th>\n",
       "      <th>BOM_R34_SW</th>\n",
       "      <th>BOM_R34_NW</th>\n",
       "      <th>BOM_R50_NE</th>\n",
       "      <th>BOM_R50_SE</th>\n",
       "      <th>BOM_R50_SW</th>\n",
       "      <th>BOM_R50_NW</th>\n",
       "      <th>BOM_R64_NE</th>\n",
       "      <th>BOM_R64_SE</th>\n",
       "      <th>BOM_R64_SW</th>\n",
       "      <th>BOM_R64_NW</th>\n",
       "      <th>BOM_ROCI</th>\n",
       "      <th>BOM_POCI</th>\n",
       "      <th>BOM_EYE</th>\n",
       "      <th>BOM_POS_METHOD</th>\n",
       "      <th>BOM_PRES_METHOD</th>\n",
       "      <th>NADI_LAT</th>\n",
       "      <th>NADI_LON</th>\n",
       "      <th>NADI_CAT</th>\n",
       "      <th>NADI_WIND</th>\n",
       "      <th>NADI_PRES</th>\n",
       "      <th>WELLINGTON_LAT</th>\n",
       "      <th>WELLINGTON_LON</th>\n",
       "      <th>WELLINGTON_WIND</th>\n",
       "      <th>WELLINGTON_PRES</th>\n",
       "      <th>DS824_LAT</th>\n",
       "      <th>DS824_LON</th>\n",
       "      <th>DS824_STAGE</th>\n",
       "      <th>DS824_WIND</th>\n",
       "      <th>DS824_PRES</th>\n",
       "      <th>TD9636_LAT</th>\n",
       "      <th>TD9636_LON</th>\n",
       "      <th>TD9636_STAGE</th>\n",
       "      <th>TD9636_WIND</th>\n",
       "      <th>TD9636_PRES</th>\n",
       "      <th>TD9635_LAT</th>\n",
       "      <th>TD9635_LON</th>\n",
       "      <th>TD9635_WIND</th>\n",
       "      <th>TD9635_PRES</th>\n",
       "      <th>TD9635_ROCI</th>\n",
       "      <th>NEUMANN_LAT</th>\n",
       "      <th>NEUMANN_LON</th>\n",
       "      <th>NEUMANN_CLASS</th>\n",
       "      <th>NEUMANN_WIND</th>\n",
       "      <th>NEUMANN_PRES</th>\n",
       "      <th>MLC_LAT</th>\n",
       "      <th>MLC_LON</th>\n",
       "      <th>MLC_CLASS</th>\n",
       "      <th>MLC_WIND</th>\n",
       "      <th>MLC_PRES</th>\n",
       "      <th>USA_GUST</th>\n",
       "      <th>BOM_GUST</th>\n",
       "      <th>BOM_GUST_PER</th>\n",
       "      <th>REUNION_GUST</th>\n",
       "      <th>REUNION_GUST_PER</th>\n",
       "      <th>USA_SEAHGT</th>\n",
       "      <th>USA_SEARAD_NE</th>\n",
       "      <th>USA_SEARAD_SE</th>\n",
       "      <th>USA_SEARAD_SW</th>\n",
       "      <th>USA_SEARAD_NW</th>\n",
       "      <th>STORM_SPEED</th>\n",
       "      <th>STORM_DIR</th>\n",
       "    </tr>\n",
       "  </thead>\n",
       "  <tbody>\n",
       "    <tr>\n",
       "      <th>0</th>\n",
       "      <td>1980001S13173</td>\n",
       "      <td>1980</td>\n",
       "      <td>1</td>\n",
       "      <td>SP</td>\n",
       "      <td>MM</td>\n",
       "      <td>PENI</td>\n",
       "      <td>1980-01-01 00:00:00</td>\n",
       "      <td>TS</td>\n",
       "      <td>-12.5000</td>\n",
       "      <td>172.500</td>\n",
       "      <td>NaN</td>\n",
       "      <td>NaN</td>\n",
       "      <td>NaN</td>\n",
       "      <td>main</td>\n",
       "      <td>647</td>\n",
       "      <td>647</td>\n",
       "      <td>O________OO_O_</td>\n",
       "      <td>jtwc_sh</td>\n",
       "      <td>SH051980</td>\n",
       "      <td>-12.5000</td>\n",
       "      <td>172.500</td>\n",
       "      <td>NaN</td>\n",
       "      <td>NaN</td>\n",
       "      <td>25</td>\n",
       "      <td>NaN</td>\n",
       "      <td>-1</td>\n",
       "      <td>NaN</td>\n",
       "      <td>NaN</td>\n",
       "      <td>NaN</td>\n",
       "      <td>NaN</td>\n",
       "      <td>NaN</td>\n",
       "      <td>NaN</td>\n",
       "      <td>NaN</td>\n",
       "      <td>NaN</td>\n",
       "      <td>NaN</td>\n",
       "      <td>NaN</td>\n",
       "      <td>NaN</td>\n",
       "      <td>NaN</td>\n",
       "      <td>NaN</td>\n",
       "      <td>NaN</td>\n",
       "      <td>NaN</td>\n",
       "      <td>NaN</td>\n",
       "      <td>NaN</td>\n",
       "      <td>NaN</td>\n",
       "      <td>NaN</td>\n",
       "      <td>NaN</td>\n",
       "      <td>NaN</td>\n",
       "      <td>NaN</td>\n",
       "      <td>NaN</td>\n",
       "      <td>NaN</td>\n",
       "      <td>NaN</td>\n",
       "      <td>NaN</td>\n",
       "      <td>NaN</td>\n",
       "      <td>NaN</td>\n",
       "      <td>NaN</td>\n",
       "      <td>NaN</td>\n",
       "      <td>NaN</td>\n",
       "      <td>NaN</td>\n",
       "      <td>NaN</td>\n",
       "      <td>NaN</td>\n",
       "      <td>NaN</td>\n",
       "      <td>NaN</td>\n",
       "      <td>NaN</td>\n",
       "      <td>NaN</td>\n",
       "      <td>NaN</td>\n",
       "      <td>NaN</td>\n",
       "      <td>NaN</td>\n",
       "      <td>NaN</td>\n",
       "      <td>NaN</td>\n",
       "      <td>NaN</td>\n",
       "      <td>NaN</td>\n",
       "      <td>NaN</td>\n",
       "      <td>NaN</td>\n",
       "      <td>NaN</td>\n",
       "      <td>NaN</td>\n",
       "      <td>NaN</td>\n",
       "      <td>NaN</td>\n",
       "      <td>NaN</td>\n",
       "      <td>NaN</td>\n",
       "      <td>NaN</td>\n",
       "      <td>NaN</td>\n",
       "      <td>NaN</td>\n",
       "      <td>NaN</td>\n",
       "      <td>NaN</td>\n",
       "      <td>NaN</td>\n",
       "      <td>NaN</td>\n",
       "      <td>NaN</td>\n",
       "      <td>NaN</td>\n",
       "      <td>NaN</td>\n",
       "      <td>NaN</td>\n",
       "      <td>NaN</td>\n",
       "      <td>NaN</td>\n",
       "      <td>NaN</td>\n",
       "      <td>NaN</td>\n",
       "      <td>NaN</td>\n",
       "      <td>NaN</td>\n",
       "      <td>NaN</td>\n",
       "      <td>NaN</td>\n",
       "      <td>NaN</td>\n",
       "      <td>NaN</td>\n",
       "      <td>NaN</td>\n",
       "      <td>NaN</td>\n",
       "      <td>NaN</td>\n",
       "      <td>NaN</td>\n",
       "      <td>NaN</td>\n",
       "      <td>NaN</td>\n",
       "      <td>NaN</td>\n",
       "      <td>NaN</td>\n",
       "      <td>NaN</td>\n",
       "      <td>NaN</td>\n",
       "      <td>NaN</td>\n",
       "      <td>NaN</td>\n",
       "      <td>NaN</td>\n",
       "      <td>NaN</td>\n",
       "      <td>NaN</td>\n",
       "      <td>NaN</td>\n",
       "      <td>NaN</td>\n",
       "      <td>NaN</td>\n",
       "      <td>NaN</td>\n",
       "      <td>NaN</td>\n",
       "      <td>NaN</td>\n",
       "      <td>NaN</td>\n",
       "      <td>NaN</td>\n",
       "      <td>NaN</td>\n",
       "      <td>NaN</td>\n",
       "      <td>NaN</td>\n",
       "      <td>-12.5000</td>\n",
       "      <td>172.500</td>\n",
       "      <td>TC</td>\n",
       "      <td>25</td>\n",
       "      <td>NaN</td>\n",
       "      <td>-12.5000</td>\n",
       "      <td>172.500</td>\n",
       "      <td>1</td>\n",
       "      <td>25</td>\n",
       "      <td>NaN</td>\n",
       "      <td>NaN</td>\n",
       "      <td>NaN</td>\n",
       "      <td>NaN</td>\n",
       "      <td>NaN</td>\n",
       "      <td>NaN</td>\n",
       "      <td>-12.5000</td>\n",
       "      <td>172.500</td>\n",
       "      <td>TC</td>\n",
       "      <td>25</td>\n",
       "      <td>NaN</td>\n",
       "      <td>NaN</td>\n",
       "      <td>NaN</td>\n",
       "      <td>NaN</td>\n",
       "      <td>NaN</td>\n",
       "      <td>NaN</td>\n",
       "      <td>NaN</td>\n",
       "      <td>NaN</td>\n",
       "      <td>NaN</td>\n",
       "      <td>NaN</td>\n",
       "      <td>NaN</td>\n",
       "      <td>NaN</td>\n",
       "      <td>NaN</td>\n",
       "      <td>NaN</td>\n",
       "      <td>NaN</td>\n",
       "      <td>NaN</td>\n",
       "      <td>6</td>\n",
       "      <td>351</td>\n",
       "    </tr>\n",
       "    <tr>\n",
       "      <th>1</th>\n",
       "      <td>1980001S13173</td>\n",
       "      <td>1980</td>\n",
       "      <td>1</td>\n",
       "      <td>SP</td>\n",
       "      <td>MM</td>\n",
       "      <td>PENI</td>\n",
       "      <td>1980-01-01 03:00:00</td>\n",
       "      <td>TS</td>\n",
       "      <td>-12.1927</td>\n",
       "      <td>172.441</td>\n",
       "      <td>NaN</td>\n",
       "      <td>NaN</td>\n",
       "      <td>NaN</td>\n",
       "      <td>main</td>\n",
       "      <td>653</td>\n",
       "      <td>653</td>\n",
       "      <td>P________PP_P_</td>\n",
       "      <td>NaN</td>\n",
       "      <td>SH051980</td>\n",
       "      <td>-12.1825</td>\n",
       "      <td>172.432</td>\n",
       "      <td>NaN</td>\n",
       "      <td>NaN</td>\n",
       "      <td>25</td>\n",
       "      <td>NaN</td>\n",
       "      <td>-1</td>\n",
       "      <td>NaN</td>\n",
       "      <td>NaN</td>\n",
       "      <td>NaN</td>\n",
       "      <td>NaN</td>\n",
       "      <td>NaN</td>\n",
       "      <td>NaN</td>\n",
       "      <td>NaN</td>\n",
       "      <td>NaN</td>\n",
       "      <td>NaN</td>\n",
       "      <td>NaN</td>\n",
       "      <td>NaN</td>\n",
       "      <td>NaN</td>\n",
       "      <td>NaN</td>\n",
       "      <td>NaN</td>\n",
       "      <td>NaN</td>\n",
       "      <td>NaN</td>\n",
       "      <td>NaN</td>\n",
       "      <td>NaN</td>\n",
       "      <td>NaN</td>\n",
       "      <td>NaN</td>\n",
       "      <td>NaN</td>\n",
       "      <td>NaN</td>\n",
       "      <td>NaN</td>\n",
       "      <td>NaN</td>\n",
       "      <td>NaN</td>\n",
       "      <td>NaN</td>\n",
       "      <td>NaN</td>\n",
       "      <td>NaN</td>\n",
       "      <td>NaN</td>\n",
       "      <td>NaN</td>\n",
       "      <td>NaN</td>\n",
       "      <td>NaN</td>\n",
       "      <td>NaN</td>\n",
       "      <td>NaN</td>\n",
       "      <td>NaN</td>\n",
       "      <td>NaN</td>\n",
       "      <td>NaN</td>\n",
       "      <td>NaN</td>\n",
       "      <td>NaN</td>\n",
       "      <td>NaN</td>\n",
       "      <td>NaN</td>\n",
       "      <td>NaN</td>\n",
       "      <td>NaN</td>\n",
       "      <td>NaN</td>\n",
       "      <td>NaN</td>\n",
       "      <td>NaN</td>\n",
       "      <td>NaN</td>\n",
       "      <td>NaN</td>\n",
       "      <td>NaN</td>\n",
       "      <td>NaN</td>\n",
       "      <td>NaN</td>\n",
       "      <td>NaN</td>\n",
       "      <td>NaN</td>\n",
       "      <td>NaN</td>\n",
       "      <td>NaN</td>\n",
       "      <td>NaN</td>\n",
       "      <td>NaN</td>\n",
       "      <td>NaN</td>\n",
       "      <td>NaN</td>\n",
       "      <td>NaN</td>\n",
       "      <td>NaN</td>\n",
       "      <td>NaN</td>\n",
       "      <td>NaN</td>\n",
       "      <td>NaN</td>\n",
       "      <td>NaN</td>\n",
       "      <td>NaN</td>\n",
       "      <td>NaN</td>\n",
       "      <td>NaN</td>\n",
       "      <td>NaN</td>\n",
       "      <td>NaN</td>\n",
       "      <td>NaN</td>\n",
       "      <td>NaN</td>\n",
       "      <td>NaN</td>\n",
       "      <td>NaN</td>\n",
       "      <td>NaN</td>\n",
       "      <td>NaN</td>\n",
       "      <td>NaN</td>\n",
       "      <td>NaN</td>\n",
       "      <td>NaN</td>\n",
       "      <td>NaN</td>\n",
       "      <td>NaN</td>\n",
       "      <td>NaN</td>\n",
       "      <td>NaN</td>\n",
       "      <td>NaN</td>\n",
       "      <td>NaN</td>\n",
       "      <td>NaN</td>\n",
       "      <td>NaN</td>\n",
       "      <td>NaN</td>\n",
       "      <td>NaN</td>\n",
       "      <td>NaN</td>\n",
       "      <td>NaN</td>\n",
       "      <td>NaN</td>\n",
       "      <td>NaN</td>\n",
       "      <td>NaN</td>\n",
       "      <td>NaN</td>\n",
       "      <td>NaN</td>\n",
       "      <td>NaN</td>\n",
       "      <td>NaN</td>\n",
       "      <td>NaN</td>\n",
       "      <td>NaN</td>\n",
       "      <td>-12.1825</td>\n",
       "      <td>172.432</td>\n",
       "      <td>TC</td>\n",
       "      <td>25</td>\n",
       "      <td>NaN</td>\n",
       "      <td>-12.2234</td>\n",
       "      <td>172.469</td>\n",
       "      <td>1</td>\n",
       "      <td>NaN</td>\n",
       "      <td>NaN</td>\n",
       "      <td>NaN</td>\n",
       "      <td>NaN</td>\n",
       "      <td>NaN</td>\n",
       "      <td>NaN</td>\n",
       "      <td>NaN</td>\n",
       "      <td>-12.1825</td>\n",
       "      <td>172.432</td>\n",
       "      <td>TC</td>\n",
       "      <td>25</td>\n",
       "      <td>NaN</td>\n",
       "      <td>NaN</td>\n",
       "      <td>NaN</td>\n",
       "      <td>NaN</td>\n",
       "      <td>NaN</td>\n",
       "      <td>NaN</td>\n",
       "      <td>NaN</td>\n",
       "      <td>NaN</td>\n",
       "      <td>NaN</td>\n",
       "      <td>NaN</td>\n",
       "      <td>NaN</td>\n",
       "      <td>NaN</td>\n",
       "      <td>NaN</td>\n",
       "      <td>NaN</td>\n",
       "      <td>NaN</td>\n",
       "      <td>NaN</td>\n",
       "      <td>6</td>\n",
       "      <td>351</td>\n",
       "    </tr>\n",
       "    <tr>\n",
       "      <th>2</th>\n",
       "      <td>1980001S13173</td>\n",
       "      <td>1980</td>\n",
       "      <td>1</td>\n",
       "      <td>SP</td>\n",
       "      <td>MM</td>\n",
       "      <td>PENI</td>\n",
       "      <td>1980-01-01 06:00:00</td>\n",
       "      <td>TS</td>\n",
       "      <td>-11.9144</td>\n",
       "      <td>172.412</td>\n",
       "      <td>NaN</td>\n",
       "      <td>NaN</td>\n",
       "      <td>NaN</td>\n",
       "      <td>main</td>\n",
       "      <td>670</td>\n",
       "      <td>670</td>\n",
       "      <td>O________OP_O_</td>\n",
       "      <td>jtwc_sh</td>\n",
       "      <td>SH051980</td>\n",
       "      <td>-11.9000</td>\n",
       "      <td>172.400</td>\n",
       "      <td>NaN</td>\n",
       "      <td>NaN</td>\n",
       "      <td>25</td>\n",
       "      <td>NaN</td>\n",
       "      <td>-1</td>\n",
       "      <td>NaN</td>\n",
       "      <td>NaN</td>\n",
       "      <td>NaN</td>\n",
       "      <td>NaN</td>\n",
       "      <td>NaN</td>\n",
       "      <td>NaN</td>\n",
       "      <td>NaN</td>\n",
       "      <td>NaN</td>\n",
       "      <td>NaN</td>\n",
       "      <td>NaN</td>\n",
       "      <td>NaN</td>\n",
       "      <td>NaN</td>\n",
       "      <td>NaN</td>\n",
       "      <td>NaN</td>\n",
       "      <td>NaN</td>\n",
       "      <td>NaN</td>\n",
       "      <td>NaN</td>\n",
       "      <td>NaN</td>\n",
       "      <td>NaN</td>\n",
       "      <td>NaN</td>\n",
       "      <td>NaN</td>\n",
       "      <td>NaN</td>\n",
       "      <td>NaN</td>\n",
       "      <td>NaN</td>\n",
       "      <td>NaN</td>\n",
       "      <td>NaN</td>\n",
       "      <td>NaN</td>\n",
       "      <td>NaN</td>\n",
       "      <td>NaN</td>\n",
       "      <td>NaN</td>\n",
       "      <td>NaN</td>\n",
       "      <td>NaN</td>\n",
       "      <td>NaN</td>\n",
       "      <td>NaN</td>\n",
       "      <td>NaN</td>\n",
       "      <td>NaN</td>\n",
       "      <td>NaN</td>\n",
       "      <td>NaN</td>\n",
       "      <td>NaN</td>\n",
       "      <td>NaN</td>\n",
       "      <td>NaN</td>\n",
       "      <td>NaN</td>\n",
       "      <td>NaN</td>\n",
       "      <td>NaN</td>\n",
       "      <td>NaN</td>\n",
       "      <td>NaN</td>\n",
       "      <td>NaN</td>\n",
       "      <td>NaN</td>\n",
       "      <td>NaN</td>\n",
       "      <td>NaN</td>\n",
       "      <td>NaN</td>\n",
       "      <td>NaN</td>\n",
       "      <td>NaN</td>\n",
       "      <td>NaN</td>\n",
       "      <td>NaN</td>\n",
       "      <td>NaN</td>\n",
       "      <td>NaN</td>\n",
       "      <td>NaN</td>\n",
       "      <td>NaN</td>\n",
       "      <td>NaN</td>\n",
       "      <td>NaN</td>\n",
       "      <td>NaN</td>\n",
       "      <td>NaN</td>\n",
       "      <td>NaN</td>\n",
       "      <td>NaN</td>\n",
       "      <td>NaN</td>\n",
       "      <td>NaN</td>\n",
       "      <td>NaN</td>\n",
       "      <td>NaN</td>\n",
       "      <td>NaN</td>\n",
       "      <td>NaN</td>\n",
       "      <td>NaN</td>\n",
       "      <td>NaN</td>\n",
       "      <td>NaN</td>\n",
       "      <td>NaN</td>\n",
       "      <td>NaN</td>\n",
       "      <td>NaN</td>\n",
       "      <td>NaN</td>\n",
       "      <td>NaN</td>\n",
       "      <td>NaN</td>\n",
       "      <td>NaN</td>\n",
       "      <td>NaN</td>\n",
       "      <td>NaN</td>\n",
       "      <td>NaN</td>\n",
       "      <td>NaN</td>\n",
       "      <td>NaN</td>\n",
       "      <td>NaN</td>\n",
       "      <td>NaN</td>\n",
       "      <td>NaN</td>\n",
       "      <td>NaN</td>\n",
       "      <td>NaN</td>\n",
       "      <td>NaN</td>\n",
       "      <td>NaN</td>\n",
       "      <td>NaN</td>\n",
       "      <td>NaN</td>\n",
       "      <td>NaN</td>\n",
       "      <td>NaN</td>\n",
       "      <td>NaN</td>\n",
       "      <td>NaN</td>\n",
       "      <td>NaN</td>\n",
       "      <td>-11.9000</td>\n",
       "      <td>172.400</td>\n",
       "      <td>TC</td>\n",
       "      <td>25</td>\n",
       "      <td>NaN</td>\n",
       "      <td>-11.9575</td>\n",
       "      <td>172.450</td>\n",
       "      <td>1</td>\n",
       "      <td>NaN</td>\n",
       "      <td>NaN</td>\n",
       "      <td>NaN</td>\n",
       "      <td>NaN</td>\n",
       "      <td>NaN</td>\n",
       "      <td>NaN</td>\n",
       "      <td>NaN</td>\n",
       "      <td>-11.9000</td>\n",
       "      <td>172.400</td>\n",
       "      <td>TC</td>\n",
       "      <td>25</td>\n",
       "      <td>NaN</td>\n",
       "      <td>NaN</td>\n",
       "      <td>NaN</td>\n",
       "      <td>NaN</td>\n",
       "      <td>NaN</td>\n",
       "      <td>NaN</td>\n",
       "      <td>NaN</td>\n",
       "      <td>NaN</td>\n",
       "      <td>NaN</td>\n",
       "      <td>NaN</td>\n",
       "      <td>NaN</td>\n",
       "      <td>NaN</td>\n",
       "      <td>NaN</td>\n",
       "      <td>NaN</td>\n",
       "      <td>NaN</td>\n",
       "      <td>NaN</td>\n",
       "      <td>5</td>\n",
       "      <td>358</td>\n",
       "    </tr>\n",
       "  </tbody>\n",
       "</table>\n",
       "</div>"
      ],
      "text/plain": [
       "             SID SEASON NUMBER BASIN SUBBASIN  NAME             ISO_TIME  \\\n",
       "0  1980001S13173   1980      1    SP       MM  PENI  1980-01-01 00:00:00   \n",
       "1  1980001S13173   1980      1    SP       MM  PENI  1980-01-01 03:00:00   \n",
       "2  1980001S13173   1980      1    SP       MM  PENI  1980-01-01 06:00:00   \n",
       "\n",
       "  NATURE       LAT      LON WMO_WIND WMO_PRES WMO_AGENCY TRACK_TYPE DIST2LAND  \\\n",
       "0     TS  -12.5000  172.500      NaN      NaN        NaN       main       647   \n",
       "1     TS  -12.1927  172.441      NaN      NaN        NaN       main       653   \n",
       "2     TS  -11.9144  172.412      NaN      NaN        NaN       main       670   \n",
       "\n",
       "  LANDFALL           IFLAG USA_AGENCY USA_ATCF_ID   USA_LAT  USA_LON  \\\n",
       "0      647  O________OO_O_    jtwc_sh    SH051980  -12.5000  172.500   \n",
       "1      653  P________PP_P_        NaN    SH051980  -12.1825  172.432   \n",
       "2      670  O________OP_O_    jtwc_sh    SH051980  -11.9000  172.400   \n",
       "\n",
       "  USA_RECORD USA_STATUS USA_WIND USA_PRES USA_SSHS USA_R34_NE USA_R34_SE  \\\n",
       "0        NaN        NaN       25      NaN       -1        NaN        NaN   \n",
       "1        NaN        NaN       25      NaN       -1        NaN        NaN   \n",
       "2        NaN        NaN       25      NaN       -1        NaN        NaN   \n",
       "\n",
       "  USA_R34_SW USA_R34_NW USA_R50_NE USA_R50_SE USA_R50_SW USA_R50_NW  \\\n",
       "0        NaN        NaN        NaN        NaN        NaN        NaN   \n",
       "1        NaN        NaN        NaN        NaN        NaN        NaN   \n",
       "2        NaN        NaN        NaN        NaN        NaN        NaN   \n",
       "\n",
       "  USA_R64_NE USA_R64_SE USA_R64_SW USA_R64_NW USA_POCI USA_ROCI USA_RMW  \\\n",
       "0        NaN        NaN        NaN        NaN      NaN      NaN     NaN   \n",
       "1        NaN        NaN        NaN        NaN      NaN      NaN     NaN   \n",
       "2        NaN        NaN        NaN        NaN      NaN      NaN     NaN   \n",
       "\n",
       "  USA_EYE TOKYO_LAT TOKYO_LON TOKYO_GRADE TOKYO_WIND TOKYO_PRES TOKYO_R50_DIR  \\\n",
       "0     NaN       NaN       NaN         NaN        NaN        NaN           NaN   \n",
       "1     NaN       NaN       NaN         NaN        NaN        NaN           NaN   \n",
       "2     NaN       NaN       NaN         NaN        NaN        NaN           NaN   \n",
       "\n",
       "  TOKYO_R50_LONG TOKYO_R50_SHORT TOKYO_R30_DIR TOKYO_R30_LONG TOKYO_R30_SHORT  \\\n",
       "0            NaN             NaN           NaN            NaN             NaN   \n",
       "1            NaN             NaN           NaN            NaN             NaN   \n",
       "2            NaN             NaN           NaN            NaN             NaN   \n",
       "\n",
       "  TOKYO_LAND CMA_LAT CMA_LON CMA_CAT CMA_WIND CMA_PRES HKO_LAT HKO_LON  \\\n",
       "0        NaN     NaN     NaN     NaN      NaN      NaN     NaN     NaN   \n",
       "1        NaN     NaN     NaN     NaN      NaN      NaN     NaN     NaN   \n",
       "2        NaN     NaN     NaN     NaN      NaN      NaN     NaN     NaN   \n",
       "\n",
       "  HKO_CAT HKO_WIND HKO_PRES NEWDELHI_LAT NEWDELHI_LON NEWDELHI_GRADE  \\\n",
       "0     NaN      NaN      NaN          NaN          NaN            NaN   \n",
       "1     NaN      NaN      NaN          NaN          NaN            NaN   \n",
       "2     NaN      NaN      NaN          NaN          NaN            NaN   \n",
       "\n",
       "  NEWDELHI_WIND NEWDELHI_PRES NEWDELHI_CI NEWDELHI_DP NEWDELHI_POCI  \\\n",
       "0           NaN           NaN         NaN         NaN           NaN   \n",
       "1           NaN           NaN         NaN         NaN           NaN   \n",
       "2           NaN           NaN         NaN         NaN           NaN   \n",
       "\n",
       "  REUNION_LAT REUNION_LON REUNION_TYPE REUNION_WIND REUNION_PRES REUNION_TNUM  \\\n",
       "0         NaN         NaN          NaN          NaN          NaN          NaN   \n",
       "1         NaN         NaN          NaN          NaN          NaN          NaN   \n",
       "2         NaN         NaN          NaN          NaN          NaN          NaN   \n",
       "\n",
       "  REUNION_CI REUNION_RMW REUNION_R34_NE REUNION_R34_SE REUNION_R34_SW  \\\n",
       "0        NaN         NaN            NaN            NaN            NaN   \n",
       "1        NaN         NaN            NaN            NaN            NaN   \n",
       "2        NaN         NaN            NaN            NaN            NaN   \n",
       "\n",
       "  REUNION_R34_NW REUNION_R50_NE REUNION_R50_SE REUNION_R50_SW REUNION_R50_NW  \\\n",
       "0            NaN            NaN            NaN            NaN            NaN   \n",
       "1            NaN            NaN            NaN            NaN            NaN   \n",
       "2            NaN            NaN            NaN            NaN            NaN   \n",
       "\n",
       "  REUNION_R64_NE REUNION_R64_SE REUNION_R64_SW REUNION_R64_NW BOM_LAT BOM_LON  \\\n",
       "0            NaN            NaN            NaN            NaN     NaN     NaN   \n",
       "1            NaN            NaN            NaN            NaN     NaN     NaN   \n",
       "2            NaN            NaN            NaN            NaN     NaN     NaN   \n",
       "\n",
       "  BOM_TYPE BOM_WIND BOM_PRES BOM_TNUM BOM_CI BOM_RMW BOM_R34_NE BOM_R34_SE  \\\n",
       "0      NaN      NaN      NaN      NaN    NaN     NaN        NaN        NaN   \n",
       "1      NaN      NaN      NaN      NaN    NaN     NaN        NaN        NaN   \n",
       "2      NaN      NaN      NaN      NaN    NaN     NaN        NaN        NaN   \n",
       "\n",
       "  BOM_R34_SW BOM_R34_NW BOM_R50_NE BOM_R50_SE BOM_R50_SW BOM_R50_NW  \\\n",
       "0        NaN        NaN        NaN        NaN        NaN        NaN   \n",
       "1        NaN        NaN        NaN        NaN        NaN        NaN   \n",
       "2        NaN        NaN        NaN        NaN        NaN        NaN   \n",
       "\n",
       "  BOM_R64_NE BOM_R64_SE BOM_R64_SW BOM_R64_NW BOM_ROCI BOM_POCI BOM_EYE  \\\n",
       "0        NaN        NaN        NaN        NaN      NaN      NaN     NaN   \n",
       "1        NaN        NaN        NaN        NaN      NaN      NaN     NaN   \n",
       "2        NaN        NaN        NaN        NaN      NaN      NaN     NaN   \n",
       "\n",
       "  BOM_POS_METHOD BOM_PRES_METHOD NADI_LAT NADI_LON NADI_CAT NADI_WIND  \\\n",
       "0            NaN             NaN      NaN      NaN      NaN       NaN   \n",
       "1            NaN             NaN      NaN      NaN      NaN       NaN   \n",
       "2            NaN             NaN      NaN      NaN      NaN       NaN   \n",
       "\n",
       "  NADI_PRES WELLINGTON_LAT WELLINGTON_LON WELLINGTON_WIND WELLINGTON_PRES  \\\n",
       "0       NaN            NaN            NaN             NaN             NaN   \n",
       "1       NaN            NaN            NaN             NaN             NaN   \n",
       "2       NaN            NaN            NaN             NaN             NaN   \n",
       "\n",
       "  DS824_LAT DS824_LON DS824_STAGE DS824_WIND DS824_PRES TD9636_LAT TD9636_LON  \\\n",
       "0  -12.5000   172.500          TC         25        NaN   -12.5000    172.500   \n",
       "1  -12.1825   172.432          TC         25        NaN   -12.2234    172.469   \n",
       "2  -11.9000   172.400          TC         25        NaN   -11.9575    172.450   \n",
       "\n",
       "  TD9636_STAGE TD9636_WIND TD9636_PRES TD9635_LAT TD9635_LON TD9635_WIND  \\\n",
       "0            1          25         NaN        NaN        NaN         NaN   \n",
       "1            1         NaN         NaN        NaN        NaN         NaN   \n",
       "2            1         NaN         NaN        NaN        NaN         NaN   \n",
       "\n",
       "  TD9635_PRES TD9635_ROCI NEUMANN_LAT NEUMANN_LON NEUMANN_CLASS NEUMANN_WIND  \\\n",
       "0         NaN         NaN    -12.5000     172.500            TC           25   \n",
       "1         NaN         NaN    -12.1825     172.432            TC           25   \n",
       "2         NaN         NaN    -11.9000     172.400            TC           25   \n",
       "\n",
       "  NEUMANN_PRES MLC_LAT MLC_LON MLC_CLASS MLC_WIND MLC_PRES USA_GUST BOM_GUST  \\\n",
       "0          NaN     NaN     NaN       NaN      NaN      NaN      NaN      NaN   \n",
       "1          NaN     NaN     NaN       NaN      NaN      NaN      NaN      NaN   \n",
       "2          NaN     NaN     NaN       NaN      NaN      NaN      NaN      NaN   \n",
       "\n",
       "  BOM_GUST_PER REUNION_GUST REUNION_GUST_PER USA_SEAHGT USA_SEARAD_NE  \\\n",
       "0          NaN          NaN              NaN        NaN           NaN   \n",
       "1          NaN          NaN              NaN        NaN           NaN   \n",
       "2          NaN          NaN              NaN        NaN           NaN   \n",
       "\n",
       "  USA_SEARAD_SE USA_SEARAD_SW USA_SEARAD_NW STORM_SPEED STORM_DIR  \n",
       "0           NaN           NaN           NaN           6       351  \n",
       "1           NaN           NaN           NaN           6       351  \n",
       "2           NaN           NaN           NaN           5       358  "
      ]
     },
     "execution_count": 5,
     "metadata": {},
     "output_type": "execute_result"
    }
   ],
   "source": [
    "df = pd.read_csv('data/ibtracs.since1980.list.v04r00.csv', dtype='object', parse_dates=True, skiprows=[1], na_values=' ')\n",
    "df.columns = [x.lower() for x in df.columns]"
   ]
  },
  {
   "cell_type": "code",
   "execution_count": 7,
   "metadata": {},
   "outputs": [],
   "source": [
    "#removing unclassified rows\n",
    "df.drop(df.loc[df['nature'] == 'NR'].index, inplace=True)\n",
    "df.drop(df.loc[df['nature'] == 'MX'].index, inplace=True)\n",
    "\n",
    "#new column  \n",
    "df['target'] = 0\n",
    "\n",
    "# loop through the data and input a 1 where the storm is a Tropical storm\n",
    "for row in df.index:\n",
    "    if df['nature'][row] == 'TS':\n",
    "        df['target'][row] = 1"
   ]
  },
  {
   "cell_type": "code",
   "execution_count": 8,
   "metadata": {},
   "outputs": [],
   "source": [
    "initial_feats = ['sid', 'season', 'basin', 'subbasin', 'lat', 'lon', \n",
    "                 'wmo_wind', 'dist2land', 'storm_speed', 'storm_dir']\n",
    "xs_df = df[initial_feats]\n",
    "\n",
    "xs_df[['lat', 'lon', 'dist2land', 'season', 'wmo_wind', 'storm_speed', 'storm_dir']] = xs_df[['lat', 'lon', 'dist2land', 'season', 'wmo_wind', 'storm_speed', 'storm_dir']].apply(pd.to_numeric)\n",
    "\n",
    "#taking my datetime object and pulling out the week as a feature\n",
    "df['iso_time'] = pd.to_datetime(df['iso_time'])\n",
    "xs_df['week_of_year'] = df['iso_time'].dt.week"
   ]
  },
  {
   "cell_type": "code",
   "execution_count": 9,
   "metadata": {},
   "outputs": [
    {
     "data": {
      "text/html": [
       "<div>\n",
       "<style scoped>\n",
       "    .dataframe tbody tr th:only-of-type {\n",
       "        vertical-align: middle;\n",
       "    }\n",
       "\n",
       "    .dataframe tbody tr th {\n",
       "        vertical-align: top;\n",
       "    }\n",
       "\n",
       "    .dataframe thead th {\n",
       "        text-align: right;\n",
       "    }\n",
       "</style>\n",
       "<table border=\"1\" class=\"dataframe\">\n",
       "  <thead>\n",
       "    <tr style=\"text-align: right;\">\n",
       "      <th></th>\n",
       "      <th>sid</th>\n",
       "      <th>season</th>\n",
       "      <th>basin</th>\n",
       "      <th>subbasin</th>\n",
       "      <th>lat</th>\n",
       "      <th>lon</th>\n",
       "      <th>wmo_wind</th>\n",
       "      <th>dist2land</th>\n",
       "      <th>storm_speed</th>\n",
       "      <th>storm_dir</th>\n",
       "      <th>week_of_year</th>\n",
       "      <th>target</th>\n",
       "    </tr>\n",
       "  </thead>\n",
       "  <tbody>\n",
       "    <tr>\n",
       "      <th>0</th>\n",
       "      <td>1980001S13173</td>\n",
       "      <td>1980</td>\n",
       "      <td>SP</td>\n",
       "      <td>MM</td>\n",
       "      <td>-12.5000</td>\n",
       "      <td>172.500</td>\n",
       "      <td>NaN</td>\n",
       "      <td>647</td>\n",
       "      <td>6.0</td>\n",
       "      <td>351.0</td>\n",
       "      <td>1</td>\n",
       "      <td>1</td>\n",
       "    </tr>\n",
       "    <tr>\n",
       "      <th>1</th>\n",
       "      <td>1980001S13173</td>\n",
       "      <td>1980</td>\n",
       "      <td>SP</td>\n",
       "      <td>MM</td>\n",
       "      <td>-12.1927</td>\n",
       "      <td>172.441</td>\n",
       "      <td>NaN</td>\n",
       "      <td>653</td>\n",
       "      <td>6.0</td>\n",
       "      <td>351.0</td>\n",
       "      <td>1</td>\n",
       "      <td>1</td>\n",
       "    </tr>\n",
       "    <tr>\n",
       "      <th>2</th>\n",
       "      <td>1980001S13173</td>\n",
       "      <td>1980</td>\n",
       "      <td>SP</td>\n",
       "      <td>MM</td>\n",
       "      <td>-11.9144</td>\n",
       "      <td>172.412</td>\n",
       "      <td>NaN</td>\n",
       "      <td>670</td>\n",
       "      <td>5.0</td>\n",
       "      <td>358.0</td>\n",
       "      <td>1</td>\n",
       "      <td>1</td>\n",
       "    </tr>\n",
       "    <tr>\n",
       "      <th>3</th>\n",
       "      <td>1980001S13173</td>\n",
       "      <td>1980</td>\n",
       "      <td>SP</td>\n",
       "      <td>MM</td>\n",
       "      <td>-11.6863</td>\n",
       "      <td>172.435</td>\n",
       "      <td>NaN</td>\n",
       "      <td>682</td>\n",
       "      <td>4.0</td>\n",
       "      <td>12.0</td>\n",
       "      <td>1</td>\n",
       "      <td>1</td>\n",
       "    </tr>\n",
       "    <tr>\n",
       "      <th>4</th>\n",
       "      <td>1980001S13173</td>\n",
       "      <td>1980</td>\n",
       "      <td>SP</td>\n",
       "      <td>MM</td>\n",
       "      <td>-11.5000</td>\n",
       "      <td>172.500</td>\n",
       "      <td>NaN</td>\n",
       "      <td>703</td>\n",
       "      <td>4.0</td>\n",
       "      <td>22.0</td>\n",
       "      <td>1</td>\n",
       "      <td>1</td>\n",
       "    </tr>\n",
       "  </tbody>\n",
       "</table>\n",
       "</div>"
      ],
      "text/plain": [
       "             sid  season basin subbasin      lat      lon  wmo_wind  \\\n",
       "0  1980001S13173    1980    SP       MM -12.5000  172.500       NaN   \n",
       "1  1980001S13173    1980    SP       MM -12.1927  172.441       NaN   \n",
       "2  1980001S13173    1980    SP       MM -11.9144  172.412       NaN   \n",
       "3  1980001S13173    1980    SP       MM -11.6863  172.435       NaN   \n",
       "4  1980001S13173    1980    SP       MM -11.5000  172.500       NaN   \n",
       "\n",
       "   dist2land  storm_speed  storm_dir  week_of_year  target  \n",
       "0        647          6.0      351.0             1       1  \n",
       "1        653          6.0      351.0             1       1  \n",
       "2        670          5.0      358.0             1       1  \n",
       "3        682          4.0       12.0             1       1  \n",
       "4        703          4.0       22.0             1       1  "
      ]
     },
     "execution_count": 9,
     "metadata": {},
     "output_type": "execute_result"
    }
   ],
   "source": [
    "y_df = df['target'].to_frame()\n",
    "clean_df = pd.concat([xs_df, y_df], axis=1)\n",
    "clean_df.head()"
   ]
  },
  {
   "cell_type": "code",
   "execution_count": 10,
   "metadata": {},
   "outputs": [
    {
     "data": {
      "text/html": [
       "<div>\n",
       "<style scoped>\n",
       "    .dataframe tbody tr th:only-of-type {\n",
       "        vertical-align: middle;\n",
       "    }\n",
       "\n",
       "    .dataframe tbody tr th {\n",
       "        vertical-align: top;\n",
       "    }\n",
       "\n",
       "    .dataframe thead th {\n",
       "        text-align: right;\n",
       "    }\n",
       "</style>\n",
       "<table border=\"1\" class=\"dataframe\">\n",
       "  <thead>\n",
       "    <tr style=\"text-align: right;\">\n",
       "      <th></th>\n",
       "      <th>season</th>\n",
       "      <th>lat</th>\n",
       "      <th>lon</th>\n",
       "      <th>wmo_wind</th>\n",
       "      <th>dist2land</th>\n",
       "      <th>storm_speed</th>\n",
       "      <th>storm_dir</th>\n",
       "      <th>week_of_year</th>\n",
       "      <th>target</th>\n",
       "    </tr>\n",
       "    <tr>\n",
       "      <th>sid</th>\n",
       "      <th></th>\n",
       "      <th></th>\n",
       "      <th></th>\n",
       "      <th></th>\n",
       "      <th></th>\n",
       "      <th></th>\n",
       "      <th></th>\n",
       "      <th></th>\n",
       "      <th></th>\n",
       "    </tr>\n",
       "  </thead>\n",
       "  <tbody>\n",
       "    <tr>\n",
       "      <th>1980001S13173</th>\n",
       "      <td>1980</td>\n",
       "      <td>-11.1525</td>\n",
       "      <td>189.5</td>\n",
       "      <td>65.0</td>\n",
       "      <td>934</td>\n",
       "      <td>22.0</td>\n",
       "      <td>358.0</td>\n",
       "      <td>1</td>\n",
       "      <td>1</td>\n",
       "    </tr>\n",
       "    <tr>\n",
       "      <th>1980002S15081</th>\n",
       "      <td>1980</td>\n",
       "      <td>-13.8825</td>\n",
       "      <td>80.0</td>\n",
       "      <td>29.0</td>\n",
       "      <td>2230</td>\n",
       "      <td>7.0</td>\n",
       "      <td>320.0</td>\n",
       "      <td>1</td>\n",
       "      <td>1</td>\n",
       "    </tr>\n",
       "    <tr>\n",
       "      <th>1980003S15137</th>\n",
       "      <td>1980</td>\n",
       "      <td>-14.6600</td>\n",
       "      <td>161.0</td>\n",
       "      <td>50.0</td>\n",
       "      <td>818</td>\n",
       "      <td>26.0</td>\n",
       "      <td>237.0</td>\n",
       "      <td>2</td>\n",
       "      <td>1</td>\n",
       "    </tr>\n",
       "    <tr>\n",
       "      <th>1980005S11059</th>\n",
       "      <td>1980</td>\n",
       "      <td>-11.0000</td>\n",
       "      <td>59.0</td>\n",
       "      <td>25.0</td>\n",
       "      <td>1014</td>\n",
       "      <td>35.0</td>\n",
       "      <td>308.0</td>\n",
       "      <td>1</td>\n",
       "      <td>1</td>\n",
       "    </tr>\n",
       "    <tr>\n",
       "      <th>1980005S14120</th>\n",
       "      <td>1980</td>\n",
       "      <td>-13.6333</td>\n",
       "      <td>120.7</td>\n",
       "      <td>115.0</td>\n",
       "      <td>490</td>\n",
       "      <td>20.0</td>\n",
       "      <td>339.0</td>\n",
       "      <td>2</td>\n",
       "      <td>1</td>\n",
       "    </tr>\n",
       "  </tbody>\n",
       "</table>\n",
       "</div>"
      ],
      "text/plain": [
       "               season      lat    lon  wmo_wind  dist2land  storm_speed  \\\n",
       "sid                                                                       \n",
       "1980001S13173    1980 -11.1525  189.5      65.0        934         22.0   \n",
       "1980002S15081    1980 -13.8825   80.0      29.0       2230          7.0   \n",
       "1980003S15137    1980 -14.6600  161.0      50.0        818         26.0   \n",
       "1980005S11059    1980 -11.0000   59.0      25.0       1014         35.0   \n",
       "1980005S14120    1980 -13.6333  120.7     115.0        490         20.0   \n",
       "\n",
       "               storm_dir  week_of_year  target  \n",
       "sid                                             \n",
       "1980001S13173      358.0             1       1  \n",
       "1980002S15081      320.0             1       1  \n",
       "1980003S15137      237.0             2       1  \n",
       "1980005S11059      308.0             1       1  \n",
       "1980005S14120      339.0             2       1  "
      ]
     },
     "execution_count": 10,
     "metadata": {},
     "output_type": "execute_result"
    }
   ],
   "source": [
    "grouped_df = clean_df.groupby(['sid']).max()\n",
    "grouped_df.head()"
   ]
  },
  {
   "cell_type": "markdown",
   "metadata": {},
   "source": [
    "### Feature Exploration Visualizations"
   ]
  },
  {
   "cell_type": "markdown",
   "metadata": {},
   "source": [
    "#### Correlation Marix"
   ]
  },
  {
   "cell_type": "code",
   "execution_count": null,
   "metadata": {},
   "outputs": [],
   "source": [
    "#removing non-numericals\n",
    "plot_df = clean_df.drop(['subbasin', 'basin'], axis=1)\n",
    "plot_df.columns"
   ]
  },
  {
   "cell_type": "code",
   "execution_count": 15,
   "metadata": {},
   "outputs": [
    {
     "data": {
      "text/plain": [
       "(9, 0)"
      ]
     },
     "execution_count": 15,
     "metadata": {},
     "output_type": "execute_result"
    },
    {
     "data": {
      "image/png": "[encoded data removed]",
      "text/plain": [
       "<Figure size 1080x720 with 2 Axes>"
      ]
     },
     "metadata": {},
     "output_type": "display_data"
    }
   ],
   "source": [
    "plt.figure(figsize = (15,10))\n",
    "ax = sns.heatmap(plot_df.corr(), annot=True)\n",
    "ax.set_ylim(9,0)"
   ]
  },
  {
   "cell_type": "markdown",
   "metadata": {},
   "source": [
    "#### Pairplot"
   ]
  },
  {
   "cell_type": "code",
   "execution_count": 12,
   "metadata": {
    "scrolled": true
   },
   "outputs": [
    {
     "data": {
      "text/plain": [
       "<seaborn.axisgrid.PairGrid at 0x276811c0a20>"
      ]
     },
     "execution_count": 12,
     "metadata": {},
     "output_type": "execute_result"
    },
    {
     "data": {
      "text/plain": [
       "<Figure size 720x576 with 0 Axes>"
      ]
     },
     "metadata": {},
     "output_type": "display_data"
    },
    {
     "data": {
      "image/png": "[encoded data removed]",
      "text/plain": [
       "<Figure size 1481.62x180 with 8 Axes>"
      ]
     },
     "metadata": {},
     "output_type": "display_data"
    }
   ],
   "source": [
    "# plt.figure(figsize=(10,8))\n",
    "\n",
    "# sns.pairplot(plot_df, hue='target', y_vars='target')"
   ]
  },
  {
   "cell_type": "code",
   "execution_count": 45,
   "metadata": {},
   "outputs": [],
   "source": [
    "map_df = clean_df[['sid', 'lat', 'lon', 'season', 'week_of_year', 'target']]"
   ]
  },
  {
   "cell_type": "code",
   "execution_count": 39,
   "metadata": {},
   "outputs": [
    {
     "data": {
      "text/plain": [
       "3912"
      ]
     },
     "execution_count": 39,
     "metadata": {},
     "output_type": "execute_result"
    }
   ],
   "source": [
    "map_df['sid'].nunique()"
   ]
  },
  {
   "cell_type": "code",
   "execution_count": 50,
   "metadata": {
    "scrolled": true
   },
   "outputs": [
    {
     "data": {
      "text/html": [
       "<div>\n",
       "<style scoped>\n",
       "    .dataframe tbody tr th:only-of-type {\n",
       "        vertical-align: middle;\n",
       "    }\n",
       "\n",
       "    .dataframe tbody tr th {\n",
       "        vertical-align: top;\n",
       "    }\n",
       "\n",
       "    .dataframe thead th {\n",
       "        text-align: right;\n",
       "    }\n",
       "</style>\n",
       "<table border=\"1\" class=\"dataframe\">\n",
       "  <thead>\n",
       "    <tr style=\"text-align: right;\">\n",
       "      <th></th>\n",
       "      <th>sid</th>\n",
       "      <th>lat</th>\n",
       "      <th>lon</th>\n",
       "      <th>season</th>\n",
       "      <th>week_of_year</th>\n",
       "      <th>target</th>\n",
       "    </tr>\n",
       "  </thead>\n",
       "  <tbody>\n",
       "    <tr>\n",
       "      <th>0</th>\n",
       "      <td>1980001S13173</td>\n",
       "      <td>-12.5000</td>\n",
       "      <td>172.500</td>\n",
       "      <td>1980</td>\n",
       "      <td>1</td>\n",
       "      <td>1</td>\n",
       "    </tr>\n",
       "    <tr>\n",
       "      <th>1</th>\n",
       "      <td>1980001S13173</td>\n",
       "      <td>-12.1927</td>\n",
       "      <td>172.441</td>\n",
       "      <td>1980</td>\n",
       "      <td>1</td>\n",
       "      <td>1</td>\n",
       "    </tr>\n",
       "    <tr>\n",
       "      <th>2</th>\n",
       "      <td>1980001S13173</td>\n",
       "      <td>-11.9144</td>\n",
       "      <td>172.412</td>\n",
       "      <td>1980</td>\n",
       "      <td>1</td>\n",
       "      <td>1</td>\n",
       "    </tr>\n",
       "    <tr>\n",
       "      <th>3</th>\n",
       "      <td>1980001S13173</td>\n",
       "      <td>-11.6863</td>\n",
       "      <td>172.435</td>\n",
       "      <td>1980</td>\n",
       "      <td>1</td>\n",
       "      <td>1</td>\n",
       "    </tr>\n",
       "    <tr>\n",
       "      <th>4</th>\n",
       "      <td>1980001S13173</td>\n",
       "      <td>-11.5000</td>\n",
       "      <td>172.500</td>\n",
       "      <td>1980</td>\n",
       "      <td>1</td>\n",
       "      <td>1</td>\n",
       "    </tr>\n",
       "  </tbody>\n",
       "</table>\n",
       "</div>"
      ],
      "text/plain": [
       "             sid      lat      lon  season  week_of_year  target\n",
       "0  1980001S13173 -12.5000  172.500    1980             1       1\n",
       "1  1980001S13173 -12.1927  172.441    1980             1       1\n",
       "2  1980001S13173 -11.9144  172.412    1980             1       1\n",
       "3  1980001S13173 -11.6863  172.435    1980             1       1\n",
       "4  1980001S13173 -11.5000  172.500    1980             1       1"
      ]
     },
     "execution_count": 50,
     "metadata": {},
     "output_type": "execute_result"
    }
   ],
   "source": [
    "test_table = map_df.loc[map_df['sid'] == map_df['sid'][3]]\n",
    "test_table.head()"
   ]
  },
  {
   "cell_type": "code",
   "execution_count": null,
   "metadata": {},
   "outputs": [],
   "source": [
    "lat_points = []\n",
    "lon_points = []\n",
    "\n",
    "for i in range(0, 3912)\n",
    "    table = map_df.loc[map_df['sid'] == map_df['sid'][i]]\n",
    "    lat_points.append(list(table['lat']))\n",
    "    lon_points.append(list(table['lon']))\n",
    "    \n",
    "    fig = px.line_mapbox(test_table, lat=\"lat\", lon=\"lon\", color=\"target\", zoom=3, height=300)\n",
    "\n",
    "    fig.update_layout(mapbox_style=\"stamen-terrain\", mapbox_zoom=4, mapbox_center_lat = 41,\n",
    "    margin={\"r\":0,\"t\":0,\"l\":0,\"b\":0})\n",
    "\n",
    "    fig.show()\n",
    "    \n",
    "    "
   ]
  },
  {
   "cell_type": "code",
   "execution_count": 52,
   "metadata": {},
   "outputs": [
    {
     "data": {
      "application/vnd.plotly.v1+json": {
       "config": {
        "plotlyServerURL": "https://plot.ly"
       },
       "data": [
        {
         "hoverlabel": {
          "namelength": 0
         },
         "hovertemplate": "target=1<br>lat=%{lat}<br>lon=%{lon}",
         "lat": [
          -12.5,
          -12.1927,
          -11.9144,
          -11.6863,
          -11.5,
          -11.3225,
          -11.2038,
          -11.1525,
          -11.1882,
          -11.3457,
          -11.5676,
          -11.778,
          -12,
          -12.2264,
          -12.467,
          -12.7017,
          -13,
          -13.4061,
          -13.895,
          -14.4259,
          -15,
          -15.597,
          -16.2241,
          -16.8746,
          -17.5,
          -18.0777,
          -18.5975,
          -19.0865,
          -19.44,
          -19.5648,
          -19.5679,
          -19.5495,
          -19.6,
          -19.8461,
          -20.1721,
          -20.4845,
          -20.8,
          -21.1083,
          -21.4109,
          -21.7085,
          -22
         ],
         "legendgroup": "target=1",
         "line": {
          "color": "#636efa"
         },
         "lon": [
          172.5,
          172.44099999999997,
          172.412,
          172.435,
          172.5,
          172.58599999999998,
          172.703,
          172.851,
          173,
          173.104,
          173.21200000000002,
          173.34099999999998,
          173.5,
          173.71099999999998,
          173.946,
          174.183,
          174.4,
          174.567,
          174.706,
          174.83,
          174.96,
          175.09900000000002,
          175.274,
          175.488,
          175.8,
          176.24400000000003,
          176.78799999999998,
          177.378,
          178,
          178.56799999999998,
          179.176,
          179.854,
          180.66,
          181.644,
          182.743,
          183.863,
          185,
          186.118,
          187.233,
          188.361,
          189.5
         ],
         "mode": "lines",
         "name": "target=1",
         "showlegend": true,
         "subplot": "mapbox",
         "type": "scattermapbox"
        }
       ],
       "layout": {
        "height": 300,
        "legend": {
         "tracegroupgap": 0
        },
        "mapbox": {
         "center": {
          "lat": 41,
          "lon": 176.94339024390243
         },
         "domain": {
          "x": [
           0,
           0.98
          ],
          "y": [
           0,
           1
          ]
         },
         "style": "stamen-terrain",
         "zoom": 4
        },
        "margin": {
         "b": 0,
         "l": 0,
         "r": 0,
         "t": 0
        },
        "template": {
         "data": {
          "bar": [
           {
            "error_x": {
             "color": "#2a3f5f"
            },
            "error_y": {
             "color": "#2a3f5f"
            },
            "marker": {
             "line": {
              "color": "#E5ECF6",
              "width": 0.5
             }
            },
            "type": "bar"
           }
          ],
          "barpolar": [
           {
            "marker": {
             "line": {
              "color": "#E5ECF6",
              "width": 0.5
             }
            },
            "type": "barpolar"
           }
          ],
          "carpet": [
           {
            "aaxis": {
             "endlinecolor": "#2a3f5f",
             "gridcolor": "white",
             "linecolor": "white",
             "minorgridcolor": "white",
             "startlinecolor": "#2a3f5f"
            },
            "baxis": {
             "endlinecolor": "#2a3f5f",
             "gridcolor": "white",
             "linecolor": "white",
             "minorgridcolor": "white",
             "startlinecolor": "#2a3f5f"
            },
            "type": "carpet"
           }
          ],
          "choropleth": [
           {
            "colorbar": {
             "outlinewidth": 0,
             "ticks": ""
            },
            "type": "choropleth"
           }
          ],
          "contour": [
           {
            "colorbar": {
             "outlinewidth": 0,
             "ticks": ""
            },
            "colorscale": [
             [
              0,
              "#0d0887"
             ],
             [
              0.1111111111111111,
              "#46039f"
             ],
             [
              0.2222222222222222,
              "#7201a8"
             ],
             [
              0.3333333333333333,
              "#9c179e"
             ],
             [
              0.4444444444444444,
              "#bd3786"
             ],
             [
              0.5555555555555556,
              "#d8576b"
             ],
             [
              0.6666666666666666,
              "#ed7953"
             ],
             [
              0.7777777777777778,
              "#fb9f3a"
             ],
             [
              0.8888888888888888,
              "#fdca26"
             ],
             [
              1,
              "#f0f921"
             ]
            ],
            "type": "contour"
           }
          ],
          "contourcarpet": [
           {
            "colorbar": {
             "outlinewidth": 0,
             "ticks": ""
            },
            "type": "contourcarpet"
           }
          ],
          "heatmap": [
           {
            "colorbar": {
             "outlinewidth": 0,
             "ticks": ""
            },
            "colorscale": [
             [
              0,
              "#0d0887"
             ],
             [
              0.1111111111111111,
              "#46039f"
             ],
             [
              0.2222222222222222,
              "#7201a8"
             ],
             [
              0.3333333333333333,
              "#9c179e"
             ],
             [
              0.4444444444444444,
              "#bd3786"
             ],
             [
              0.5555555555555556,
              "#d8576b"
             ],
             [
              0.6666666666666666,
              "#ed7953"
             ],
             [
              0.7777777777777778,
              "#fb9f3a"
             ],
             [
              0.8888888888888888,
              "#fdca26"
             ],
             [
              1,
              "#f0f921"
             ]
            ],
            "type": "heatmap"
           }
          ],
          "heatmapgl": [
           {
            "colorbar": {
             "outlinewidth": 0,
             "ticks": ""
            },
            "colorscale": [
             [
              0,
              "#0d0887"
             ],
             [
              0.1111111111111111,
              "#46039f"
             ],
             [
              0.2222222222222222,
              "#7201a8"
             ],
             [
              0.3333333333333333,
              "#9c179e"
             ],
             [
              0.4444444444444444,
              "#bd3786"
             ],
             [
              0.5555555555555556,
              "#d8576b"
             ],
             [
              0.6666666666666666,
              "#ed7953"
             ],
             [
              0.7777777777777778,
              "#fb9f3a"
             ],
             [
              0.8888888888888888,
              "#fdca26"
             ],
             [
              1,
              "#f0f921"
             ]
            ],
            "type": "heatmapgl"
           }
          ],
          "histogram": [
           {
            "marker": {
             "colorbar": {
              "outlinewidth": 0,
              "ticks": ""
             }
            },
            "type": "histogram"
           }
          ],
          "histogram2d": [
           {
            "colorbar": {
             "outlinewidth": 0,
             "ticks": ""
            },
            "colorscale": [
             [
              0,
              "#0d0887"
             ],
             [
              0.1111111111111111,
              "#46039f"
             ],
             [
              0.2222222222222222,
              "#7201a8"
             ],
             [
              0.3333333333333333,
              "#9c179e"
             ],
             [
              0.4444444444444444,
              "#bd3786"
             ],
             [
              0.5555555555555556,
              "#d8576b"
             ],
             [
              0.6666666666666666,
              "#ed7953"
             ],
             [
              0.7777777777777778,
              "#fb9f3a"
             ],
             [
              0.8888888888888888,
              "#fdca26"
             ],
             [
              1,
              "#f0f921"
             ]
            ],
            "type": "histogram2d"
           }
          ],
          "histogram2dcontour": [
           {
            "colorbar": {
             "outlinewidth": 0,
             "ticks": ""
            },
            "colorscale": [
             [
              0,
              "#0d0887"
             ],
             [
              0.1111111111111111,
              "#46039f"
             ],
             [
              0.2222222222222222,
              "#7201a8"
             ],
             [
              0.3333333333333333,
              "#9c179e"
             ],
             [
              0.4444444444444444,
              "#bd3786"
             ],
             [
              0.5555555555555556,
              "#d8576b"
             ],
             [
              0.6666666666666666,
              "#ed7953"
             ],
             [
              0.7777777777777778,
              "#fb9f3a"
             ],
             [
              0.8888888888888888,
              "#fdca26"
             ],
             [
              1,
              "#f0f921"
             ]
            ],
            "type": "histogram2dcontour"
           }
          ],
          "mesh3d": [
           {
            "colorbar": {
             "outlinewidth": 0,
             "ticks": ""
            },
            "type": "mesh3d"
           }
          ],
          "parcoords": [
           {
            "line": {
             "colorbar": {
              "outlinewidth": 0,
              "ticks": ""
             }
            },
            "type": "parcoords"
           }
          ],
          "scatter": [
           {
            "marker": {
             "colorbar": {
              "outlinewidth": 0,
              "ticks": ""
             }
            },
            "type": "scatter"
           }
          ],
          "scatter3d": [
           {
            "line": {
             "colorbar": {
              "outlinewidth": 0,
              "ticks": ""
             }
            },
            "marker": {
             "colorbar": {
              "outlinewidth": 0,
              "ticks": ""
             }
            },
            "type": "scatter3d"
           }
          ],
          "scattercarpet": [
           {
            "marker": {
             "colorbar": {
              "outlinewidth": 0,
              "ticks": ""
             }
            },
            "type": "scattercarpet"
           }
          ],
          "scattergeo": [
           {
            "marker": {
             "colorbar": {
              "outlinewidth": 0,
              "ticks": ""
             }
            },
            "type": "scattergeo"
           }
          ],
          "scattergl": [
           {
            "marker": {
             "colorbar": {
              "outlinewidth": 0,
              "ticks": ""
             }
            },
            "type": "scattergl"
           }
          ],
          "scattermapbox": [
           {
            "marker": {
             "colorbar": {
              "outlinewidth": 0,
              "ticks": ""
             }
            },
            "type": "scattermapbox"
           }
          ],
          "scatterpolar": [
           {
            "marker": {
             "colorbar": {
              "outlinewidth": 0,
              "ticks": ""
             }
            },
            "type": "scatterpolar"
           }
          ],
          "scatterpolargl": [
           {
            "marker": {
             "colorbar": {
              "outlinewidth": 0,
              "ticks": ""
             }
            },
            "type": "scatterpolargl"
           }
          ],
          "scatterternary": [
           {
            "marker": {
             "colorbar": {
              "outlinewidth": 0,
              "ticks": ""
             }
            },
            "type": "scatterternary"
           }
          ],
          "surface": [
           {
            "colorbar": {
             "outlinewidth": 0,
             "ticks": ""
            },
            "colorscale": [
             [
              0,
              "#0d0887"
             ],
             [
              0.1111111111111111,
              "#46039f"
             ],
             [
              0.2222222222222222,
              "#7201a8"
             ],
             [
              0.3333333333333333,
              "#9c179e"
             ],
             [
              0.4444444444444444,
              "#bd3786"
             ],
             [
              0.5555555555555556,
              "#d8576b"
             ],
             [
              0.6666666666666666,
              "#ed7953"
             ],
             [
              0.7777777777777778,
              "#fb9f3a"
             ],
             [
              0.8888888888888888,
              "#fdca26"
             ],
             [
              1,
              "#f0f921"
             ]
            ],
            "type": "surface"
           }
          ],
          "table": [
           {
            "cells": {
             "fill": {
              "color": "#EBF0F8"
             },
             "line": {
              "color": "white"
             }
            },
            "header": {
             "fill": {
              "color": "#C8D4E3"
             },
             "line": {
              "color": "white"
             }
            },
            "type": "table"
           }
          ]
         },
         "layout": {
          "annotationdefaults": {
           "arrowcolor": "#2a3f5f",
           "arrowhead": 0,
           "arrowwidth": 1
          },
          "colorscale": {
           "diverging": [
            [
             0,
             "#8e0152"
            ],
            [
             0.1,
             "#c51b7d"
            ],
            [
             0.2,
             "#de77ae"
            ],
            [
             0.3,
             "#f1b6da"
            ],
            [
             0.4,
             "#fde0ef"
            ],
            [
             0.5,
             "#f7f7f7"
            ],
            [
             0.6,
             "#e6f5d0"
            ],
            [
             0.7,
             "#b8e186"
            ],
            [
             0.8,
             "#7fbc41"
            ],
            [
             0.9,
             "#4d9221"
            ],
            [
             1,
             "#276419"
            ]
           ],
           "sequential": [
            [
             0,
             "#0d0887"
            ],
            [
             0.1111111111111111,
             "#46039f"
            ],
            [
             0.2222222222222222,
             "#7201a8"
            ],
            [
             0.3333333333333333,
             "#9c179e"
            ],
            [
             0.4444444444444444,
             "#bd3786"
            ],
            [
             0.5555555555555556,
             "#d8576b"
            ],
            [
             0.6666666666666666,
             "#ed7953"
            ],
            [
             0.7777777777777778,
             "#fb9f3a"
            ],
            [
             0.8888888888888888,
             "#fdca26"
            ],
            [
             1,
             "#f0f921"
            ]
           ],
           "sequentialminus": [
            [
             0,
             "#0d0887"
            ],
            [
             0.1111111111111111,
             "#46039f"
            ],
            [
             0.2222222222222222,
             "#7201a8"
            ],
            [
             0.3333333333333333,
             "#9c179e"
            ],
            [
             0.4444444444444444,
             "#bd3786"
            ],
            [
             0.5555555555555556,
             "#d8576b"
            ],
            [
             0.6666666666666666,
             "#ed7953"
            ],
            [
             0.7777777777777778,
             "#fb9f3a"
            ],
            [
             0.8888888888888888,
             "#fdca26"
            ],
            [
             1,
             "#f0f921"
            ]
           ]
          },
          "colorway": [
           "#636efa",
           "#EF553B",
           "#00cc96",
           "#ab63fa",
           "#FFA15A",
           "#19d3f3",
           "#FF6692",
           "#B6E880",
           "#FF97FF",
           "#FECB52"
          ],
          "font": {
           "color": "#2a3f5f"
          },
          "geo": {
           "bgcolor": "white",
           "lakecolor": "white",
           "landcolor": "#E5ECF6",
           "showlakes": true,
           "showland": true,
           "subunitcolor": "white"
          },
          "hoverlabel": {
           "align": "left"
          },
          "hovermode": "closest",
          "mapbox": {
           "style": "light"
          },
          "paper_bgcolor": "white",
          "plot_bgcolor": "#E5ECF6",
          "polar": {
           "angularaxis": {
            "gridcolor": "white",
            "linecolor": "white",
            "ticks": ""
           },
           "bgcolor": "#E5ECF6",
           "radialaxis": {
            "gridcolor": "white",
            "linecolor": "white",
            "ticks": ""
           }
          },
          "scene": {
           "xaxis": {
            "backgroundcolor": "#E5ECF6",
            "gridcolor": "white",
            "gridwidth": 2,
            "linecolor": "white",
            "showbackground": true,
            "ticks": "",
            "zerolinecolor": "white"
           },
           "yaxis": {
            "backgroundcolor": "#E5ECF6",
            "gridcolor": "white",
            "gridwidth": 2,
            "linecolor": "white",
            "showbackground": true,
            "ticks": "",
            "zerolinecolor": "white"
           },
           "zaxis": {
            "backgroundcolor": "#E5ECF6",
            "gridcolor": "white",
            "gridwidth": 2,
            "linecolor": "white",
            "showbackground": true,
            "ticks": "",
            "zerolinecolor": "white"
           }
          },
          "shapedefaults": {
           "line": {
            "color": "#2a3f5f"
           }
          },
          "ternary": {
           "aaxis": {
            "gridcolor": "white",
            "linecolor": "white",
            "ticks": ""
           },
           "baxis": {
            "gridcolor": "white",
            "linecolor": "white",
            "ticks": ""
           },
           "bgcolor": "#E5ECF6",
           "caxis": {
            "gridcolor": "white",
            "linecolor": "white",
            "ticks": ""
           }
          },
          "title": {
           "x": 0.05
          },
          "xaxis": {
           "automargin": true,
           "gridcolor": "white",
           "linecolor": "white",
           "ticks": "",
           "zerolinecolor": "white",
           "zerolinewidth": 2
          },
          "yaxis": {
           "automargin": true,
           "gridcolor": "white",
           "linecolor": "white",
           "ticks": "",
           "zerolinecolor": "white",
           "zerolinewidth": 2
          }
         }
        }
       }
      },
      "text/html": [
       "<div>\n",
       "        \n",
       "        \n",
       "            <div id=\"4792c7bc-57c5-4543-ad0c-3479f518954e\" class=\"plotly-graph-div\" style=\"height:300px; width:100%;\"></div>\n",
       "            <script type=\"text/javascript\">\n",
       "                require([\"plotly\"], function(Plotly) {\n",
       "                    window.PLOTLYENV=window.PLOTLYENV || {};\n",
       "                    \n",
       "                if (document.getElementById(\"4792c7bc-57c5-4543-ad0c-3479f518954e\")) {\n",
       "                    Plotly.newPlot(\n",
       "                        '4792c7bc-57c5-4543-ad0c-3479f518954e',\n",
       "                        [{\"hoverlabel\": {\"namelength\": 0}, \"hovertemplate\": \"target=1<br>lat=%{lat}<br>lon=%{lon}\", \"lat\": [-12.5, -12.1927, -11.9144, -11.6863, -11.5, -11.3225, -11.2038, -11.1525, -11.1882, -11.3457, -11.5676, -11.778, -12.0, -12.2264, -12.467, -12.7017, -13.0, -13.4061, -13.895, -14.4259, -15.0, -15.597, -16.2241, -16.8746, -17.5, -18.0777, -18.5975, -19.0865, -19.44, -19.5648, -19.5679, -19.5495, -19.6, -19.8461, -20.1721, -20.4845, -20.8, -21.1083, -21.4109, -21.7085, -22.0], \"legendgroup\": \"target=1\", \"line\": {\"color\": \"#636efa\"}, \"lon\": [172.5, 172.44099999999997, 172.412, 172.435, 172.5, 172.58599999999998, 172.703, 172.851, 173.0, 173.104, 173.21200000000002, 173.34099999999998, 173.5, 173.71099999999998, 173.946, 174.183, 174.4, 174.567, 174.706, 174.83, 174.96, 175.09900000000002, 175.274, 175.488, 175.8, 176.24400000000003, 176.78799999999998, 177.378, 178.0, 178.56799999999998, 179.176, 179.854, 180.66, 181.644, 182.743, 183.863, 185.0, 186.118, 187.233, 188.361, 189.5], \"mode\": \"lines\", \"name\": \"target=1\", \"showlegend\": true, \"subplot\": \"mapbox\", \"type\": \"scattermapbox\"}],\n",
       "                        {\"height\": 300, \"legend\": {\"tracegroupgap\": 0}, \"mapbox\": {\"center\": {\"lat\": 41, \"lon\": 176.94339024390243}, \"domain\": {\"x\": [0.0, 0.98], \"y\": [0.0, 1.0]}, \"style\": \"stamen-terrain\", \"zoom\": 4}, \"margin\": {\"b\": 0, \"l\": 0, \"r\": 0, \"t\": 0}, \"template\": {\"data\": {\"bar\": [{\"error_x\": {\"color\": \"#2a3f5f\"}, \"error_y\": {\"color\": \"#2a3f5f\"}, \"marker\": {\"line\": {\"color\": \"#E5ECF6\", \"width\": 0.5}}, \"type\": \"bar\"}], \"barpolar\": [{\"marker\": {\"line\": {\"color\": \"#E5ECF6\", \"width\": 0.5}}, \"type\": \"barpolar\"}], \"carpet\": [{\"aaxis\": {\"endlinecolor\": \"#2a3f5f\", \"gridcolor\": \"white\", \"linecolor\": \"white\", \"minorgridcolor\": \"white\", \"startlinecolor\": \"#2a3f5f\"}, \"baxis\": {\"endlinecolor\": \"#2a3f5f\", \"gridcolor\": \"white\", \"linecolor\": \"white\", \"minorgridcolor\": \"white\", \"startlinecolor\": \"#2a3f5f\"}, \"type\": \"carpet\"}], \"choropleth\": [{\"colorbar\": {\"outlinewidth\": 0, \"ticks\": \"\"}, \"type\": \"choropleth\"}], \"contour\": [{\"colorbar\": {\"outlinewidth\": 0, \"ticks\": \"\"}, \"colorscale\": [[0.0, \"#0d0887\"], [0.1111111111111111, \"#46039f\"], [0.2222222222222222, \"#7201a8\"], [0.3333333333333333, \"#9c179e\"], [0.4444444444444444, \"#bd3786\"], [0.5555555555555556, \"#d8576b\"], [0.6666666666666666, \"#ed7953\"], [0.7777777777777778, \"#fb9f3a\"], [0.8888888888888888, \"#fdca26\"], [1.0, \"#f0f921\"]], \"type\": \"contour\"}], \"contourcarpet\": [{\"colorbar\": {\"outlinewidth\": 0, \"ticks\": \"\"}, \"type\": \"contourcarpet\"}], \"heatmap\": [{\"colorbar\": {\"outlinewidth\": 0, \"ticks\": \"\"}, \"colorscale\": [[0.0, \"#0d0887\"], [0.1111111111111111, \"#46039f\"], [0.2222222222222222, \"#7201a8\"], [0.3333333333333333, \"#9c179e\"], [0.4444444444444444, \"#bd3786\"], [0.5555555555555556, \"#d8576b\"], [0.6666666666666666, \"#ed7953\"], [0.7777777777777778, \"#fb9f3a\"], [0.8888888888888888, \"#fdca26\"], [1.0, \"#f0f921\"]], \"type\": \"heatmap\"}], \"heatmapgl\": [{\"colorbar\": {\"outlinewidth\": 0, \"ticks\": \"\"}, \"colorscale\": [[0.0, \"#0d0887\"], [0.1111111111111111, \"#46039f\"], [0.2222222222222222, \"#7201a8\"], [0.3333333333333333, \"#9c179e\"], [0.4444444444444444, \"#bd3786\"], [0.5555555555555556, \"#d8576b\"], [0.6666666666666666, \"#ed7953\"], [0.7777777777777778, \"#fb9f3a\"], [0.8888888888888888, \"#fdca26\"], [1.0, \"#f0f921\"]], \"type\": \"heatmapgl\"}], \"histogram\": [{\"marker\": {\"colorbar\": {\"outlinewidth\": 0, \"ticks\": \"\"}}, \"type\": \"histogram\"}], \"histogram2d\": [{\"colorbar\": {\"outlinewidth\": 0, \"ticks\": \"\"}, \"colorscale\": [[0.0, \"#0d0887\"], [0.1111111111111111, \"#46039f\"], [0.2222222222222222, \"#7201a8\"], [0.3333333333333333, \"#9c179e\"], [0.4444444444444444, \"#bd3786\"], [0.5555555555555556, \"#d8576b\"], [0.6666666666666666, \"#ed7953\"], [0.7777777777777778, \"#fb9f3a\"], [0.8888888888888888, \"#fdca26\"], [1.0, \"#f0f921\"]], \"type\": \"histogram2d\"}], \"histogram2dcontour\": [{\"colorbar\": {\"outlinewidth\": 0, \"ticks\": \"\"}, \"colorscale\": [[0.0, \"#0d0887\"], [0.1111111111111111, \"#46039f\"], [0.2222222222222222, \"#7201a8\"], [0.3333333333333333, \"#9c179e\"], [0.4444444444444444, \"#bd3786\"], [0.5555555555555556, \"#d8576b\"], [0.6666666666666666, \"#ed7953\"], [0.7777777777777778, \"#fb9f3a\"], [0.8888888888888888, \"#fdca26\"], [1.0, \"#f0f921\"]], \"type\": \"histogram2dcontour\"}], \"mesh3d\": [{\"colorbar\": {\"outlinewidth\": 0, \"ticks\": \"\"}, \"type\": \"mesh3d\"}], \"parcoords\": [{\"line\": {\"colorbar\": {\"outlinewidth\": 0, \"ticks\": \"\"}}, \"type\": \"parcoords\"}], \"scatter\": [{\"marker\": {\"colorbar\": {\"outlinewidth\": 0, \"ticks\": \"\"}}, \"type\": \"scatter\"}], \"scatter3d\": [{\"line\": {\"colorbar\": {\"outlinewidth\": 0, \"ticks\": \"\"}}, \"marker\": {\"colorbar\": {\"outlinewidth\": 0, \"ticks\": \"\"}}, \"type\": \"scatter3d\"}], \"scattercarpet\": [{\"marker\": {\"colorbar\": {\"outlinewidth\": 0, \"ticks\": \"\"}}, \"type\": \"scattercarpet\"}], \"scattergeo\": [{\"marker\": {\"colorbar\": {\"outlinewidth\": 0, \"ticks\": \"\"}}, \"type\": \"scattergeo\"}], \"scattergl\": [{\"marker\": {\"colorbar\": {\"outlinewidth\": 0, \"ticks\": \"\"}}, \"type\": \"scattergl\"}], \"scattermapbox\": [{\"marker\": {\"colorbar\": {\"outlinewidth\": 0, \"ticks\": \"\"}}, \"type\": \"scattermapbox\"}], \"scatterpolar\": [{\"marker\": {\"colorbar\": {\"outlinewidth\": 0, \"ticks\": \"\"}}, \"type\": \"scatterpolar\"}], \"scatterpolargl\": [{\"marker\": {\"colorbar\": {\"outlinewidth\": 0, \"ticks\": \"\"}}, \"type\": \"scatterpolargl\"}], \"scatterternary\": [{\"marker\": {\"colorbar\": {\"outlinewidth\": 0, \"ticks\": \"\"}}, \"type\": \"scatterternary\"}], \"surface\": [{\"colorbar\": {\"outlinewidth\": 0, \"ticks\": \"\"}, \"colorscale\": [[0.0, \"#0d0887\"], [0.1111111111111111, \"#46039f\"], [0.2222222222222222, \"#7201a8\"], [0.3333333333333333, \"#9c179e\"], [0.4444444444444444, \"#bd3786\"], [0.5555555555555556, \"#d8576b\"], [0.6666666666666666, \"#ed7953\"], [0.7777777777777778, \"#fb9f3a\"], [0.8888888888888888, \"#fdca26\"], [1.0, \"#f0f921\"]], \"type\": \"surface\"}], \"table\": [{\"cells\": {\"fill\": {\"color\": \"#EBF0F8\"}, \"line\": {\"color\": \"white\"}}, \"header\": {\"fill\": {\"color\": \"#C8D4E3\"}, \"line\": {\"color\": \"white\"}}, \"type\": \"table\"}]}, \"layout\": {\"annotationdefaults\": {\"arrowcolor\": \"#2a3f5f\", \"arrowhead\": 0, \"arrowwidth\": 1}, \"colorscale\": {\"diverging\": [[0, \"#8e0152\"], [0.1, \"#c51b7d\"], [0.2, \"#de77ae\"], [0.3, \"#f1b6da\"], [0.4, \"#fde0ef\"], [0.5, \"#f7f7f7\"], [0.6, \"#e6f5d0\"], [0.7, \"#b8e186\"], [0.8, \"#7fbc41\"], [0.9, \"#4d9221\"], [1, \"#276419\"]], \"sequential\": [[0.0, \"#0d0887\"], [0.1111111111111111, \"#46039f\"], [0.2222222222222222, \"#7201a8\"], [0.3333333333333333, \"#9c179e\"], [0.4444444444444444, \"#bd3786\"], [0.5555555555555556, \"#d8576b\"], [0.6666666666666666, \"#ed7953\"], [0.7777777777777778, \"#fb9f3a\"], [0.8888888888888888, \"#fdca26\"], [1.0, \"#f0f921\"]], \"sequentialminus\": [[0.0, \"#0d0887\"], [0.1111111111111111, \"#46039f\"], [0.2222222222222222, \"#7201a8\"], [0.3333333333333333, \"#9c179e\"], [0.4444444444444444, \"#bd3786\"], [0.5555555555555556, \"#d8576b\"], [0.6666666666666666, \"#ed7953\"], [0.7777777777777778, \"#fb9f3a\"], [0.8888888888888888, \"#fdca26\"], [1.0, \"#f0f921\"]]}, \"colorway\": [\"#636efa\", \"#EF553B\", \"#00cc96\", \"#ab63fa\", \"#FFA15A\", \"#19d3f3\", \"#FF6692\", \"#B6E880\", \"#FF97FF\", \"#FECB52\"], \"font\": {\"color\": \"#2a3f5f\"}, \"geo\": {\"bgcolor\": \"white\", \"lakecolor\": \"white\", \"landcolor\": \"#E5ECF6\", \"showlakes\": true, \"showland\": true, \"subunitcolor\": \"white\"}, \"hoverlabel\": {\"align\": \"left\"}, \"hovermode\": \"closest\", \"mapbox\": {\"style\": \"light\"}, \"paper_bgcolor\": \"white\", \"plot_bgcolor\": \"#E5ECF6\", \"polar\": {\"angularaxis\": {\"gridcolor\": \"white\", \"linecolor\": \"white\", \"ticks\": \"\"}, \"bgcolor\": \"#E5ECF6\", \"radialaxis\": {\"gridcolor\": \"white\", \"linecolor\": \"white\", \"ticks\": \"\"}}, \"scene\": {\"xaxis\": {\"backgroundcolor\": \"#E5ECF6\", \"gridcolor\": \"white\", \"gridwidth\": 2, \"linecolor\": \"white\", \"showbackground\": true, \"ticks\": \"\", \"zerolinecolor\": \"white\"}, \"yaxis\": {\"backgroundcolor\": \"#E5ECF6\", \"gridcolor\": \"white\", \"gridwidth\": 2, \"linecolor\": \"white\", \"showbackground\": true, \"ticks\": \"\", \"zerolinecolor\": \"white\"}, \"zaxis\": {\"backgroundcolor\": \"#E5ECF6\", \"gridcolor\": \"white\", \"gridwidth\": 2, \"linecolor\": \"white\", \"showbackground\": true, \"ticks\": \"\", \"zerolinecolor\": \"white\"}}, \"shapedefaults\": {\"line\": {\"color\": \"#2a3f5f\"}}, \"ternary\": {\"aaxis\": {\"gridcolor\": \"white\", \"linecolor\": \"white\", \"ticks\": \"\"}, \"baxis\": {\"gridcolor\": \"white\", \"linecolor\": \"white\", \"ticks\": \"\"}, \"bgcolor\": \"#E5ECF6\", \"caxis\": {\"gridcolor\": \"white\", \"linecolor\": \"white\", \"ticks\": \"\"}}, \"title\": {\"x\": 0.05}, \"xaxis\": {\"automargin\": true, \"gridcolor\": \"white\", \"linecolor\": \"white\", \"ticks\": \"\", \"zerolinecolor\": \"white\", \"zerolinewidth\": 2}, \"yaxis\": {\"automargin\": true, \"gridcolor\": \"white\", \"linecolor\": \"white\", \"ticks\": \"\", \"zerolinecolor\": \"white\", \"zerolinewidth\": 2}}}},\n",
       "                        {\"responsive\": true}\n",
       "                    ).then(function(){\n",
       "                            \n",
       "var gd = document.getElementById('4792c7bc-57c5-4543-ad0c-3479f518954e');\n",
       "var x = new MutationObserver(function (mutations, observer) {{\n",
       "        var display = window.getComputedStyle(gd).display;\n",
       "        if (!display || display === 'none') {{\n",
       "            console.log([gd, 'removed!']);\n",
       "            Plotly.purge(gd);\n",
       "            observer.disconnect();\n",
       "        }}\n",
       "}});\n",
       "\n",
       "// Listen for the removal of the full notebook cells\n",
       "var notebookContainer = gd.closest('#notebook-container');\n",
       "if (notebookContainer) {{\n",
       "    x.observe(notebookContainer, {childList: true});\n",
       "}}\n",
       "\n",
       "// Listen for the clearing of the current output cell\n",
       "var outputEl = gd.closest('.output');\n",
       "if (outputEl) {{\n",
       "    x.observe(outputEl, {childList: true});\n",
       "}}\n",
       "\n",
       "                        })\n",
       "                };\n",
       "                });\n",
       "            </script>\n",
       "        </div>"
      ]
     },
     "metadata": {},
     "output_type": "display_data"
    }
   ],
   "source": [
    "#test\n",
    "fig = px.line_mapbox(test_table, lat=\"lat\", lon=\"lon\", color=\"target\", zoom=3, height=300)\n",
    "\n",
    "fig.update_layout(mapbox_style=\"stamen-terrain\", mapbox_zoom=4, mapbox_center_lat = 41,\n",
    "    margin={\"r\":0,\"t\":0,\"l\":0,\"b\":0})\n",
    "\n",
    "fig.show()"
   ]
  },
  {
   "cell_type": "code",
   "execution_count": null,
   "metadata": {},
   "outputs": [],
   "source": []
  },
  {
   "cell_type": "code",
   "execution_count": null,
   "metadata": {},
   "outputs": [],
   "source": []
  },
  {
   "cell_type": "code",
   "execution_count": null,
   "metadata": {},
   "outputs": [],
   "source": []
  }
 ],
 "metadata": {
  "kernelspec": {
   "display_name": "learn-env",
   "language": "python",
   "name": "learn-env"
  },
  "language_info": {
   "codemirror_mode": {
    "name": "ipython",
    "version": 3
   },
   "file_extension": ".py",
   "mimetype": "text/x-python",
   "name": "python",
   "nbconvert_exporter": "python",
   "pygments_lexer": "ipython3",
   "version": "3.6.9"
  }
 },
 "nbformat": 4,
 "nbformat_minor": 4
}
