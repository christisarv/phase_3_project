{
 "cells": [
  {
   "cell_type": "code",
   "execution_count": 1,
   "metadata": {},
   "outputs": [],
   "source": [
    "import pandas as pd"
   ]
  },
  {
   "cell_type": "code",
   "execution_count": 2,
   "metadata": {},
   "outputs": [
    {
     "name": "stderr",
     "output_type": "stream",
     "text": [
      "C:\\Users\\christina.sarver\\Anaconda3\\envs\\learn-env\\lib\\site-packages\\IPython\\core\\interactiveshell.py:3072: DtypeWarning: Columns (1,2,8,9,14,19,20,25,161,162) have mixed types. Specify dtype option on import or set low_memory=False.\n",
      "  interactivity=interactivity, compiler=compiler, result=result)\n"
     ]
    }
   ],
   "source": [
    "df = pd.read_csv('ibtracs.ALL.list.v04r00.csv')"
   ]
  },
  {
   "cell_type": "code",
   "execution_count": 3,
   "metadata": {
    "scrolled": true
   },
   "outputs": [
    {
     "data": {
      "text/html": [
       "<div>\n",
       "<style scoped>\n",
       "    .dataframe tbody tr th:only-of-type {\n",
       "        vertical-align: middle;\n",
       "    }\n",
       "\n",
       "    .dataframe tbody tr th {\n",
       "        vertical-align: top;\n",
       "    }\n",
       "\n",
       "    .dataframe thead th {\n",
       "        text-align: right;\n",
       "    }\n",
       "</style>\n",
       "<table border=\"1\" class=\"dataframe\">\n",
       "  <thead>\n",
       "    <tr style=\"text-align: right;\">\n",
       "      <th></th>\n",
       "      <th>SID</th>\n",
       "      <th>SEASON</th>\n",
       "      <th>NUMBER</th>\n",
       "      <th>BASIN</th>\n",
       "      <th>SUBBASIN</th>\n",
       "      <th>NAME</th>\n",
       "      <th>ISO_TIME</th>\n",
       "      <th>NATURE</th>\n",
       "      <th>LAT</th>\n",
       "      <th>LON</th>\n",
       "      <th>...</th>\n",
       "      <th>BOM_GUST_PER</th>\n",
       "      <th>REUNION_GUST</th>\n",
       "      <th>REUNION_GUST_PER</th>\n",
       "      <th>USA_SEAHGT</th>\n",
       "      <th>USA_SEARAD_NE</th>\n",
       "      <th>USA_SEARAD_SE</th>\n",
       "      <th>USA_SEARAD_SW</th>\n",
       "      <th>USA_SEARAD_NW</th>\n",
       "      <th>STORM_SPEED</th>\n",
       "      <th>STORM_DIR</th>\n",
       "    </tr>\n",
       "  </thead>\n",
       "  <tbody>\n",
       "    <tr>\n",
       "      <th>0</th>\n",
       "      <td></td>\n",
       "      <td>Year</td>\n",
       "      <td></td>\n",
       "      <td></td>\n",
       "      <td></td>\n",
       "      <td></td>\n",
       "      <td></td>\n",
       "      <td></td>\n",
       "      <td>degrees_north</td>\n",
       "      <td>degrees_east</td>\n",
       "      <td>...</td>\n",
       "      <td>second</td>\n",
       "      <td>kts</td>\n",
       "      <td>second</td>\n",
       "      <td>ft</td>\n",
       "      <td>nmile</td>\n",
       "      <td>nmile</td>\n",
       "      <td>nmile</td>\n",
       "      <td>nmile</td>\n",
       "      <td>kts</td>\n",
       "      <td>degrees</td>\n",
       "    </tr>\n",
       "    <tr>\n",
       "      <th>1</th>\n",
       "      <td>1842298N11080</td>\n",
       "      <td>1842</td>\n",
       "      <td>1</td>\n",
       "      <td>NI</td>\n",
       "      <td>BB</td>\n",
       "      <td>NOT_NAMED</td>\n",
       "      <td>1842-10-25 03:00:00</td>\n",
       "      <td>NR</td>\n",
       "      <td>10.9000</td>\n",
       "      <td>80.3000</td>\n",
       "      <td>...</td>\n",
       "      <td></td>\n",
       "      <td></td>\n",
       "      <td></td>\n",
       "      <td></td>\n",
       "      <td></td>\n",
       "      <td></td>\n",
       "      <td></td>\n",
       "      <td></td>\n",
       "      <td>9</td>\n",
       "      <td>266</td>\n",
       "    </tr>\n",
       "    <tr>\n",
       "      <th>2</th>\n",
       "      <td>1842298N11080</td>\n",
       "      <td>1842</td>\n",
       "      <td>1</td>\n",
       "      <td>NI</td>\n",
       "      <td>BB</td>\n",
       "      <td>NOT_NAMED</td>\n",
       "      <td>1842-10-25 06:00:00</td>\n",
       "      <td>NR</td>\n",
       "      <td>10.8709</td>\n",
       "      <td>79.8265</td>\n",
       "      <td>...</td>\n",
       "      <td></td>\n",
       "      <td></td>\n",
       "      <td></td>\n",
       "      <td></td>\n",
       "      <td></td>\n",
       "      <td></td>\n",
       "      <td></td>\n",
       "      <td></td>\n",
       "      <td>9</td>\n",
       "      <td>267</td>\n",
       "    </tr>\n",
       "    <tr>\n",
       "      <th>3</th>\n",
       "      <td>1842298N11080</td>\n",
       "      <td>1842</td>\n",
       "      <td>1</td>\n",
       "      <td>NI</td>\n",
       "      <td>BB</td>\n",
       "      <td>NOT_NAMED</td>\n",
       "      <td>1842-10-25 09:00:00</td>\n",
       "      <td>NR</td>\n",
       "      <td>10.8431</td>\n",
       "      <td>79.3524</td>\n",
       "      <td>...</td>\n",
       "      <td></td>\n",
       "      <td></td>\n",
       "      <td></td>\n",
       "      <td></td>\n",
       "      <td></td>\n",
       "      <td></td>\n",
       "      <td></td>\n",
       "      <td></td>\n",
       "      <td>9</td>\n",
       "      <td>267</td>\n",
       "    </tr>\n",
       "    <tr>\n",
       "      <th>4</th>\n",
       "      <td>1842298N11080</td>\n",
       "      <td>1842</td>\n",
       "      <td>1</td>\n",
       "      <td>NI</td>\n",
       "      <td>BB</td>\n",
       "      <td>NOT_NAMED</td>\n",
       "      <td>1842-10-25 12:00:00</td>\n",
       "      <td>NR</td>\n",
       "      <td>10.8188</td>\n",
       "      <td>78.8772</td>\n",
       "      <td>...</td>\n",
       "      <td></td>\n",
       "      <td></td>\n",
       "      <td></td>\n",
       "      <td></td>\n",
       "      <td></td>\n",
       "      <td></td>\n",
       "      <td></td>\n",
       "      <td></td>\n",
       "      <td>9</td>\n",
       "      <td>267</td>\n",
       "    </tr>\n",
       "  </tbody>\n",
       "</table>\n",
       "<p>5 rows × 163 columns</p>\n",
       "</div>"
      ],
      "text/plain": [
       "             SID SEASON NUMBER BASIN SUBBASIN       NAME             ISO_TIME  \\\n",
       "0                  Year                                                         \n",
       "1  1842298N11080   1842      1    NI       BB  NOT_NAMED  1842-10-25 03:00:00   \n",
       "2  1842298N11080   1842      1    NI       BB  NOT_NAMED  1842-10-25 06:00:00   \n",
       "3  1842298N11080   1842      1    NI       BB  NOT_NAMED  1842-10-25 09:00:00   \n",
       "4  1842298N11080   1842      1    NI       BB  NOT_NAMED  1842-10-25 12:00:00   \n",
       "\n",
       "  NATURE            LAT           LON  ... BOM_GUST_PER REUNION_GUST  \\\n",
       "0         degrees_north  degrees_east  ...       second          kts   \n",
       "1     NR        10.9000       80.3000  ...                             \n",
       "2     NR        10.8709       79.8265  ...                             \n",
       "3     NR        10.8431       79.3524  ...                             \n",
       "4     NR        10.8188       78.8772  ...                             \n",
       "\n",
       "  REUNION_GUST_PER USA_SEAHGT USA_SEARAD_NE USA_SEARAD_SE USA_SEARAD_SW  \\\n",
       "0           second         ft         nmile         nmile         nmile   \n",
       "1                                                                         \n",
       "2                                                                         \n",
       "3                                                                         \n",
       "4                                                                         \n",
       "\n",
       "  USA_SEARAD_NW STORM_SPEED STORM_DIR  \n",
       "0         nmile         kts   degrees  \n",
       "1                         9       266  \n",
       "2                         9       267  \n",
       "3                         9       267  \n",
       "4                         9       267  \n",
       "\n",
       "[5 rows x 163 columns]"
      ]
     },
     "execution_count": 3,
     "metadata": {},
     "output_type": "execute_result"
    }
   ],
   "source": [
    "df.head()"
   ]
  },
  {
   "cell_type": "code",
   "execution_count": 4,
   "metadata": {},
   "outputs": [],
   "source": [
    "df1 = df.drop(0)"
   ]
  },
  {
   "cell_type": "code",
   "execution_count": 5,
   "metadata": {},
   "outputs": [
    {
     "name": "stdout",
     "output_type": "stream",
     "text": [
      "<class 'pandas.core.frame.DataFrame'>\n",
      "Int64Index: 695400 entries, 1 to 695400\n",
      "Columns: 163 entries, SID to STORM_DIR\n",
      "dtypes: object(163)\n",
      "memory usage: 870.1+ MB\n"
     ]
    }
   ],
   "source": [
    "df1.info()"
   ]
  },
  {
   "cell_type": "code",
   "execution_count": 6,
   "metadata": {},
   "outputs": [
    {
     "data": {
      "text/plain": [
       "TS    489050\n",
       "NR    160518\n",
       "ET     27924\n",
       "DS      8295\n",
       "MX      6939\n",
       "SS      2674\n",
       "Name: NATURE, dtype: int64"
      ]
     },
     "execution_count": 6,
     "metadata": {},
     "output_type": "execute_result"
    }
   ],
   "source": [
    "df1['NATURE'].value_counts()"
   ]
  },
  {
   "cell_type": "code",
   "execution_count": 7,
   "metadata": {},
   "outputs": [
    {
     "data": {
      "text/plain": [
       "Index(['SID', 'SEASON', 'NUMBER', 'BASIN', 'SUBBASIN', 'NAME', 'ISO_TIME',\n",
       "       'NATURE', 'LAT', 'LON',\n",
       "       ...\n",
       "       'BOM_GUST_PER', 'REUNION_GUST', 'REUNION_GUST_PER', 'USA_SEAHGT',\n",
       "       'USA_SEARAD_NE', 'USA_SEARAD_SE', 'USA_SEARAD_SW', 'USA_SEARAD_NW',\n",
       "       'STORM_SPEED', 'STORM_DIR'],\n",
       "      dtype='object', length=163)"
      ]
     },
     "execution_count": 7,
     "metadata": {},
     "output_type": "execute_result"
    }
   ],
   "source": [
    "df1.columns"
   ]
  },
  {
   "cell_type": "code",
   "execution_count": 8,
   "metadata": {},
   "outputs": [
    {
     "data": {
      "text/plain": [
       "array(['1842', '1845', '1848', '1851', '1852', '1853', '1854', '1855',\n",
       "       1855, 1856, 1857, 1858, 1859, 1860, 1861, 1862, 1863, 1864, 1865,\n",
       "       1866, 1867, 1868, 1869, 1870, 1871, 1872, 1873, 1874, 1875, 1876,\n",
       "       1877, 1878, 1879, 1880, 1881, 1882, 1883, 1884, 1885, 1886, 1887,\n",
       "       1888, 1889, 1890, 1891, 1892, 1893, 1894, 1895, 1896, 1897, 1898,\n",
       "       1899, 1900, 1901, 1902, 1903, 1904, 1905, 1906, 1907, 1908, 1909,\n",
       "       1910, 1911, 1912, 1913, 1914, 1915, 1916, 1917, 1918, 1919, 1920,\n",
       "       1921, 1922, 1923, 1924, 1925, 1926, 1927, 1928, 1929, 1930, 1931,\n",
       "       1932, 1933, 1934, 1935, 1936, 1937, 1938, 1939, 1940, 1941, 1942,\n",
       "       1943, 1944, 1945, 1946, 1947, 1948, 1949, 1950, 1951, 1952, 1953,\n",
       "       1954, 1955, 1956, 1957, 1958, 1959, 1960, 1961, 1962, 1963, 1964,\n",
       "       1965, 1966, 1967, 1968, 1969, 1970, 1971, 1972, 1973, 1974, 1975,\n",
       "       1976, 1977, 1978, 1979, 1980, 1981, 1982, 1983, 1984, 1985, 1986,\n",
       "       1987, 1988, 1989, 1990, 1991, 1992, 1993, 1994, 1995, 1996, 1997,\n",
       "       1998, 1999, 2000, 2001, 2002, 2003, 2004, 2005, 2006, 2007, 2008,\n",
       "       2009, 2010, 2011, 2012, 2013, 2014, 2015, 2016, 2017, 2018, 2019,\n",
       "       2020, 2021], dtype=object)"
      ]
     },
     "execution_count": 8,
     "metadata": {},
     "output_type": "execute_result"
    }
   ],
   "source": [
    "df1['SEASON'].unique()"
   ]
  },
  {
   "cell_type": "code",
   "execution_count": 9,
   "metadata": {
    "scrolled": true
   },
   "outputs": [],
   "source": [
    "df1['SEASON'] = pd.to_numeric(df1['SEASON'])"
   ]
  },
  {
   "cell_type": "code",
   "execution_count": 11,
   "metadata": {},
   "outputs": [
    {
     "ename": "KeyError",
     "evalue": "\"['SID' 'SEASON' 'NUMBER' 'BASIN' 'SUBBASIN' 'NAME' 'ISO_TIME' 'NATURE'\\n 'LAT' 'LON' 'WMO_WIND' 'WMO_PRES' 'WMO_AGENCY' 'TRACK_TYPE' 'DIST2LAND'\\n 'LANDFALL' 'IFLAG' 'USA_AGENCY' 'USA_ATCF_ID' 'USA_LAT' 'USA_LON'\\n 'USA_RECORD' 'USA_STATUS' 'USA_WIND' 'USA_PRES' 'USA_SSHS' 'USA_R34_NE'\\n 'USA_R34_SE' 'USA_R34_SW' 'USA_R34_NW' 'USA_R50_NE' 'USA_R50_SE'\\n 'USA_R50_SW' 'USA_R50_NW' 'USA_R64_NE' 'USA_R64_SE' 'USA_R64_SW'\\n 'USA_R64_NW' 'USA_POCI' 'USA_ROCI' 'USA_RMW' 'USA_EYE' 'TOKYO_LAT'\\n 'TOKYO_LON' 'TOKYO_GRADE' 'TOKYO_WIND' 'TOKYO_PRES' 'TOKYO_R50_DIR'\\n 'TOKYO_R50_LONG' 'TOKYO_R50_SHORT' 'TOKYO_R30_DIR' 'TOKYO_R30_LONG'\\n 'TOKYO_R30_SHORT' 'TOKYO_LAND' 'CMA_LAT' 'CMA_LON' 'CMA_CAT' 'CMA_WIND'\\n 'CMA_PRES' 'HKO_LAT' 'HKO_LON' 'HKO_CAT' 'HKO_WIND' 'HKO_PRES'\\n 'NEWDELHI_LAT' 'NEWDELHI_LON' 'NEWDELHI_GRADE' 'NEWDELHI_WIND'\\n 'NEWDELHI_PRES' 'NEWDELHI_CI' 'NEWDELHI_DP' 'NEWDELHI_POCI' 'REUNION_LAT'\\n 'REUNION_LON' 'REUNION_TYPE' 'REUNION_WIND' 'REUNION_PRES' 'REUNION_TNUM'\\n 'REUNION_CI' 'REUNION_RMW' 'REUNION_R34_NE' 'REUNION_R34_SE'\\n 'REUNION_R34_SW' 'REUNION_R34_NW' 'REUNION_R50_NE' 'REUNION_R50_SE'\\n 'REUNION_R50_SW' 'REUNION_R50_NW' 'REUNION_R64_NE' 'REUNION_R64_SE'\\n 'REUNION_R64_SW' 'REUNION_R64_NW' 'BOM_LAT' 'BOM_LON' 'BOM_TYPE'\\n 'BOM_WIND' 'BOM_PRES' 'BOM_TNUM' 'BOM_CI' 'BOM_RMW' 'BOM_R34_NE'\\n 'BOM_R34_SE' 'BOM_R34_SW' 'BOM_R34_NW' 'BOM_R50_NE' 'BOM_R50_SE'\\n 'BOM_R50_SW' 'BOM_R50_NW' 'BOM_R64_NE' 'BOM_R64_SE' 'BOM_R64_SW'\\n 'BOM_R64_NW' 'BOM_ROCI' 'BOM_POCI' 'BOM_EYE' 'BOM_POS_METHOD'\\n 'BOM_PRES_METHOD' 'NADI_LAT' 'NADI_LON' 'NADI_CAT' 'NADI_WIND'\\n 'NADI_PRES' 'WELLINGTON_LAT' 'WELLINGTON_LON' 'WELLINGTON_WIND'\\n 'WELLINGTON_PRES' 'DS824_LAT' 'DS824_LON' 'DS824_STAGE' 'DS824_WIND'\\n 'DS824_PRES' 'TD9636_LAT' 'TD9636_LON' 'TD9636_STAGE' 'TD9636_WIND'\\n 'TD9636_PRES' 'TD9635_LAT' 'TD9635_LON' 'TD9635_WIND' 'TD9635_PRES'\\n 'TD9635_ROCI' 'NEUMANN_LAT' 'NEUMANN_LON' 'NEUMANN_CLASS' 'NEUMANN_WIND'\\n 'NEUMANN_PRES' 'MLC_LAT' 'MLC_LON' 'MLC_CLASS' 'MLC_WIND' 'MLC_PRES'\\n 'USA_GUST' 'BOM_GUST' 'BOM_GUST_PER' 'REUNION_GUST' 'REUNION_GUST_PER'\\n 'USA_SEAHGT' 'USA_SEARAD_NE' 'USA_SEARAD_SE' 'USA_SEARAD_SW'\\n 'USA_SEARAD_NW' 'STORM_SPEED' 'STORM_DIR'] not found in axis\"",
     "output_type": "error",
     "traceback": [
      "\u001b[1;31m---------------------------------------------------------------------------\u001b[0m",
      "\u001b[1;31mKeyError\u001b[0m                                  Traceback (most recent call last)",
      "\u001b[1;32m<ipython-input-11-5931181990be>\u001b[0m in \u001b[0;36m<module>\u001b[1;34m\u001b[0m\n\u001b[1;32m----> 1\u001b[1;33m \u001b[0mdf1\u001b[0m \u001b[1;33m=\u001b[0m \u001b[0mdf1\u001b[0m\u001b[1;33m.\u001b[0m\u001b[0mdrop\u001b[0m\u001b[1;33m(\u001b[0m\u001b[0mdf1\u001b[0m\u001b[1;33m[\u001b[0m\u001b[0mdf1\u001b[0m\u001b[1;33m[\u001b[0m\u001b[1;34m'NATURE'\u001b[0m\u001b[1;33m]\u001b[0m \u001b[1;33m==\u001b[0m \u001b[1;34m'NR'\u001b[0m\u001b[1;33m]\u001b[0m\u001b[1;33m)\u001b[0m\u001b[1;33m\u001b[0m\u001b[1;33m\u001b[0m\u001b[0m\n\u001b[0m",
      "\u001b[1;32m~\\Anaconda3\\envs\\learn-env\\lib\\site-packages\\pandas\\core\\frame.py\u001b[0m in \u001b[0;36mdrop\u001b[1;34m(self, labels, axis, index, columns, level, inplace, errors)\u001b[0m\n\u001b[0;32m   4115\u001b[0m             \u001b[0mlevel\u001b[0m\u001b[1;33m=\u001b[0m\u001b[0mlevel\u001b[0m\u001b[1;33m,\u001b[0m\u001b[1;33m\u001b[0m\u001b[1;33m\u001b[0m\u001b[0m\n\u001b[0;32m   4116\u001b[0m             \u001b[0minplace\u001b[0m\u001b[1;33m=\u001b[0m\u001b[0minplace\u001b[0m\u001b[1;33m,\u001b[0m\u001b[1;33m\u001b[0m\u001b[1;33m\u001b[0m\u001b[0m\n\u001b[1;32m-> 4117\u001b[1;33m             \u001b[0merrors\u001b[0m\u001b[1;33m=\u001b[0m\u001b[0merrors\u001b[0m\u001b[1;33m,\u001b[0m\u001b[1;33m\u001b[0m\u001b[1;33m\u001b[0m\u001b[0m\n\u001b[0m\u001b[0;32m   4118\u001b[0m         )\n\u001b[0;32m   4119\u001b[0m \u001b[1;33m\u001b[0m\u001b[0m\n",
      "\u001b[1;32m~\\Anaconda3\\envs\\learn-env\\lib\\site-packages\\pandas\\core\\generic.py\u001b[0m in \u001b[0;36mdrop\u001b[1;34m(self, labels, axis, index, columns, level, inplace, errors)\u001b[0m\n\u001b[0;32m   3912\u001b[0m         \u001b[1;32mfor\u001b[0m \u001b[0maxis\u001b[0m\u001b[1;33m,\u001b[0m \u001b[0mlabels\u001b[0m \u001b[1;32min\u001b[0m \u001b[0maxes\u001b[0m\u001b[1;33m.\u001b[0m\u001b[0mitems\u001b[0m\u001b[1;33m(\u001b[0m\u001b[1;33m)\u001b[0m\u001b[1;33m:\u001b[0m\u001b[1;33m\u001b[0m\u001b[1;33m\u001b[0m\u001b[0m\n\u001b[0;32m   3913\u001b[0m             \u001b[1;32mif\u001b[0m \u001b[0mlabels\u001b[0m \u001b[1;32mis\u001b[0m \u001b[1;32mnot\u001b[0m \u001b[1;32mNone\u001b[0m\u001b[1;33m:\u001b[0m\u001b[1;33m\u001b[0m\u001b[1;33m\u001b[0m\u001b[0m\n\u001b[1;32m-> 3914\u001b[1;33m                 \u001b[0mobj\u001b[0m \u001b[1;33m=\u001b[0m \u001b[0mobj\u001b[0m\u001b[1;33m.\u001b[0m\u001b[0m_drop_axis\u001b[0m\u001b[1;33m(\u001b[0m\u001b[0mlabels\u001b[0m\u001b[1;33m,\u001b[0m \u001b[0maxis\u001b[0m\u001b[1;33m,\u001b[0m \u001b[0mlevel\u001b[0m\u001b[1;33m=\u001b[0m\u001b[0mlevel\u001b[0m\u001b[1;33m,\u001b[0m \u001b[0merrors\u001b[0m\u001b[1;33m=\u001b[0m\u001b[0merrors\u001b[0m\u001b[1;33m)\u001b[0m\u001b[1;33m\u001b[0m\u001b[1;33m\u001b[0m\u001b[0m\n\u001b[0m\u001b[0;32m   3915\u001b[0m \u001b[1;33m\u001b[0m\u001b[0m\n\u001b[0;32m   3916\u001b[0m         \u001b[1;32mif\u001b[0m \u001b[0minplace\u001b[0m\u001b[1;33m:\u001b[0m\u001b[1;33m\u001b[0m\u001b[1;33m\u001b[0m\u001b[0m\n",
      "\u001b[1;32m~\\Anaconda3\\envs\\learn-env\\lib\\site-packages\\pandas\\core\\generic.py\u001b[0m in \u001b[0;36m_drop_axis\u001b[1;34m(self, labels, axis, level, errors)\u001b[0m\n\u001b[0;32m   3944\u001b[0m                 \u001b[0mnew_axis\u001b[0m \u001b[1;33m=\u001b[0m \u001b[0maxis\u001b[0m\u001b[1;33m.\u001b[0m\u001b[0mdrop\u001b[0m\u001b[1;33m(\u001b[0m\u001b[0mlabels\u001b[0m\u001b[1;33m,\u001b[0m \u001b[0mlevel\u001b[0m\u001b[1;33m=\u001b[0m\u001b[0mlevel\u001b[0m\u001b[1;33m,\u001b[0m \u001b[0merrors\u001b[0m\u001b[1;33m=\u001b[0m\u001b[0merrors\u001b[0m\u001b[1;33m)\u001b[0m\u001b[1;33m\u001b[0m\u001b[1;33m\u001b[0m\u001b[0m\n\u001b[0;32m   3945\u001b[0m             \u001b[1;32melse\u001b[0m\u001b[1;33m:\u001b[0m\u001b[1;33m\u001b[0m\u001b[1;33m\u001b[0m\u001b[0m\n\u001b[1;32m-> 3946\u001b[1;33m                 \u001b[0mnew_axis\u001b[0m \u001b[1;33m=\u001b[0m \u001b[0maxis\u001b[0m\u001b[1;33m.\u001b[0m\u001b[0mdrop\u001b[0m\u001b[1;33m(\u001b[0m\u001b[0mlabels\u001b[0m\u001b[1;33m,\u001b[0m \u001b[0merrors\u001b[0m\u001b[1;33m=\u001b[0m\u001b[0merrors\u001b[0m\u001b[1;33m)\u001b[0m\u001b[1;33m\u001b[0m\u001b[1;33m\u001b[0m\u001b[0m\n\u001b[0m\u001b[0;32m   3947\u001b[0m             \u001b[0mresult\u001b[0m \u001b[1;33m=\u001b[0m \u001b[0mself\u001b[0m\u001b[1;33m.\u001b[0m\u001b[0mreindex\u001b[0m\u001b[1;33m(\u001b[0m\u001b[1;33m**\u001b[0m\u001b[1;33m{\u001b[0m\u001b[0maxis_name\u001b[0m\u001b[1;33m:\u001b[0m \u001b[0mnew_axis\u001b[0m\u001b[1;33m}\u001b[0m\u001b[1;33m)\u001b[0m\u001b[1;33m\u001b[0m\u001b[1;33m\u001b[0m\u001b[0m\n\u001b[0;32m   3948\u001b[0m \u001b[1;33m\u001b[0m\u001b[0m\n",
      "\u001b[1;32m~\\Anaconda3\\envs\\learn-env\\lib\\site-packages\\pandas\\core\\indexes\\base.py\u001b[0m in \u001b[0;36mdrop\u001b[1;34m(self, labels, errors)\u001b[0m\n\u001b[0;32m   5338\u001b[0m         \u001b[1;32mif\u001b[0m \u001b[0mmask\u001b[0m\u001b[1;33m.\u001b[0m\u001b[0many\u001b[0m\u001b[1;33m(\u001b[0m\u001b[1;33m)\u001b[0m\u001b[1;33m:\u001b[0m\u001b[1;33m\u001b[0m\u001b[1;33m\u001b[0m\u001b[0m\n\u001b[0;32m   5339\u001b[0m             \u001b[1;32mif\u001b[0m \u001b[0merrors\u001b[0m \u001b[1;33m!=\u001b[0m \u001b[1;34m\"ignore\"\u001b[0m\u001b[1;33m:\u001b[0m\u001b[1;33m\u001b[0m\u001b[1;33m\u001b[0m\u001b[0m\n\u001b[1;32m-> 5340\u001b[1;33m                 \u001b[1;32mraise\u001b[0m \u001b[0mKeyError\u001b[0m\u001b[1;33m(\u001b[0m\u001b[1;34m\"{} not found in axis\"\u001b[0m\u001b[1;33m.\u001b[0m\u001b[0mformat\u001b[0m\u001b[1;33m(\u001b[0m\u001b[0mlabels\u001b[0m\u001b[1;33m[\u001b[0m\u001b[0mmask\u001b[0m\u001b[1;33m]\u001b[0m\u001b[1;33m)\u001b[0m\u001b[1;33m)\u001b[0m\u001b[1;33m\u001b[0m\u001b[1;33m\u001b[0m\u001b[0m\n\u001b[0m\u001b[0;32m   5341\u001b[0m             \u001b[0mindexer\u001b[0m \u001b[1;33m=\u001b[0m \u001b[0mindexer\u001b[0m\u001b[1;33m[\u001b[0m\u001b[1;33m~\u001b[0m\u001b[0mmask\u001b[0m\u001b[1;33m]\u001b[0m\u001b[1;33m\u001b[0m\u001b[1;33m\u001b[0m\u001b[0m\n\u001b[0;32m   5342\u001b[0m         \u001b[1;32mreturn\u001b[0m \u001b[0mself\u001b[0m\u001b[1;33m.\u001b[0m\u001b[0mdelete\u001b[0m\u001b[1;33m(\u001b[0m\u001b[0mindexer\u001b[0m\u001b[1;33m)\u001b[0m\u001b[1;33m\u001b[0m\u001b[1;33m\u001b[0m\u001b[0m\n",
      "\u001b[1;31mKeyError\u001b[0m: \"['SID' 'SEASON' 'NUMBER' 'BASIN' 'SUBBASIN' 'NAME' 'ISO_TIME' 'NATURE'\\n 'LAT' 'LON' 'WMO_WIND' 'WMO_PRES' 'WMO_AGENCY' 'TRACK_TYPE' 'DIST2LAND'\\n 'LANDFALL' 'IFLAG' 'USA_AGENCY' 'USA_ATCF_ID' 'USA_LAT' 'USA_LON'\\n 'USA_RECORD' 'USA_STATUS' 'USA_WIND' 'USA_PRES' 'USA_SSHS' 'USA_R34_NE'\\n 'USA_R34_SE' 'USA_R34_SW' 'USA_R34_NW' 'USA_R50_NE' 'USA_R50_SE'\\n 'USA_R50_SW' 'USA_R50_NW' 'USA_R64_NE' 'USA_R64_SE' 'USA_R64_SW'\\n 'USA_R64_NW' 'USA_POCI' 'USA_ROCI' 'USA_RMW' 'USA_EYE' 'TOKYO_LAT'\\n 'TOKYO_LON' 'TOKYO_GRADE' 'TOKYO_WIND' 'TOKYO_PRES' 'TOKYO_R50_DIR'\\n 'TOKYO_R50_LONG' 'TOKYO_R50_SHORT' 'TOKYO_R30_DIR' 'TOKYO_R30_LONG'\\n 'TOKYO_R30_SHORT' 'TOKYO_LAND' 'CMA_LAT' 'CMA_LON' 'CMA_CAT' 'CMA_WIND'\\n 'CMA_PRES' 'HKO_LAT' 'HKO_LON' 'HKO_CAT' 'HKO_WIND' 'HKO_PRES'\\n 'NEWDELHI_LAT' 'NEWDELHI_LON' 'NEWDELHI_GRADE' 'NEWDELHI_WIND'\\n 'NEWDELHI_PRES' 'NEWDELHI_CI' 'NEWDELHI_DP' 'NEWDELHI_POCI' 'REUNION_LAT'\\n 'REUNION_LON' 'REUNION_TYPE' 'REUNION_WIND' 'REUNION_PRES' 'REUNION_TNUM'\\n 'REUNION_CI' 'REUNION_RMW' 'REUNION_R34_NE' 'REUNION_R34_SE'\\n 'REUNION_R34_SW' 'REUNION_R34_NW' 'REUNION_R50_NE' 'REUNION_R50_SE'\\n 'REUNION_R50_SW' 'REUNION_R50_NW' 'REUNION_R64_NE' 'REUNION_R64_SE'\\n 'REUNION_R64_SW' 'REUNION_R64_NW' 'BOM_LAT' 'BOM_LON' 'BOM_TYPE'\\n 'BOM_WIND' 'BOM_PRES' 'BOM_TNUM' 'BOM_CI' 'BOM_RMW' 'BOM_R34_NE'\\n 'BOM_R34_SE' 'BOM_R34_SW' 'BOM_R34_NW' 'BOM_R50_NE' 'BOM_R50_SE'\\n 'BOM_R50_SW' 'BOM_R50_NW' 'BOM_R64_NE' 'BOM_R64_SE' 'BOM_R64_SW'\\n 'BOM_R64_NW' 'BOM_ROCI' 'BOM_POCI' 'BOM_EYE' 'BOM_POS_METHOD'\\n 'BOM_PRES_METHOD' 'NADI_LAT' 'NADI_LON' 'NADI_CAT' 'NADI_WIND'\\n 'NADI_PRES' 'WELLINGTON_LAT' 'WELLINGTON_LON' 'WELLINGTON_WIND'\\n 'WELLINGTON_PRES' 'DS824_LAT' 'DS824_LON' 'DS824_STAGE' 'DS824_WIND'\\n 'DS824_PRES' 'TD9636_LAT' 'TD9636_LON' 'TD9636_STAGE' 'TD9636_WIND'\\n 'TD9636_PRES' 'TD9635_LAT' 'TD9635_LON' 'TD9635_WIND' 'TD9635_PRES'\\n 'TD9635_ROCI' 'NEUMANN_LAT' 'NEUMANN_LON' 'NEUMANN_CLASS' 'NEUMANN_WIND'\\n 'NEUMANN_PRES' 'MLC_LAT' 'MLC_LON' 'MLC_CLASS' 'MLC_WIND' 'MLC_PRES'\\n 'USA_GUST' 'BOM_GUST' 'BOM_GUST_PER' 'REUNION_GUST' 'REUNION_GUST_PER'\\n 'USA_SEAHGT' 'USA_SEARAD_NE' 'USA_SEARAD_SE' 'USA_SEARAD_SW'\\n 'USA_SEARAD_NW' 'STORM_SPEED' 'STORM_DIR'] not found in axis\""
     ]
    }
   ],
   "source": [
    "df1 = df1.drop(df1[df1['NATURE'] == 'NR'])"
   ]
  },
  {
   "cell_type": "code",
   "execution_count": 34,
   "metadata": {},
   "outputs": [
    {
     "name": "stdout",
     "output_type": "stream",
     "text": [
      "<class 'pandas.core.frame.DataFrame'>\n",
      "Int64Index: 563195 entries, 132206 to 695400\n",
      "Columns: 163 entries, SID to STORM_DIR\n",
      "dtypes: int64(1), object(162)\n",
      "memory usage: 704.7+ MB\n"
     ]
    }
   ],
   "source": [
    "df1[df1['SEASON'] > 1920].info()"
   ]
  },
  {
   "cell_type": "code",
   "execution_count": null,
   "metadata": {},
   "outputs": [],
   "source": []
  }
 ],
 "metadata": {
  "kernelspec": {
   "display_name": "learn-env",
   "language": "python",
   "name": "learn-env"
  },
  "language_info": {
   "codemirror_mode": {
    "name": "ipython",
    "version": 3
   },
   "file_extension": ".py",
   "mimetype": "text/x-python",
   "name": "python",
   "nbconvert_exporter": "python",
   "pygments_lexer": "ipython3",
   "version": "3.6.9"
  }
 },
 "nbformat": 4,
 "nbformat_minor": 4
}
